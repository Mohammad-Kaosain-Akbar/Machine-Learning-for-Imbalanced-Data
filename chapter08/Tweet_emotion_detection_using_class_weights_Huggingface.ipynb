{
  "cells": [
    {
      "cell_type": "markdown",
      "source": [
        "Reference https://github.com/trhgquan/MTH089/blob/dae5a8f8f7707aa9cac1df9f7b0011d4f7a741d7/practice/TREC-classification/code/deep-learning/BERT-based-classification.ipynb\n"
      ],
      "metadata": {
        "id": "E6zNyJBcEIrN"
      },
      "id": "E6zNyJBcEIrN"
    },
    {
      "cell_type": "code",
      "execution_count": 1,
      "id": "f39166f1",
      "metadata": {
        "id": "f39166f1",
        "outputId": "4ff92aad-fd60-44c0-a59b-5766c5a239eb",
        "colab": {
          "base_uri": "https://localhost:8080/"
        }
      },
      "outputs": [
        {
          "output_type": "stream",
          "name": "stdout",
          "text": [
            "Looking in indexes: https://pypi.org/simple, https://us-python.pkg.dev/colab-wheels/public/simple/\n",
            "Collecting transformers==4.25.1\n",
            "  Downloading transformers-4.25.1-py3-none-any.whl (5.8 MB)\n",
            "\u001b[K     |████████████████████████████████| 5.8 MB 15.7 MB/s \n",
            "\u001b[?25hCollecting datasets==2.8.0\n",
            "  Downloading datasets-2.8.0-py3-none-any.whl (452 kB)\n",
            "\u001b[K     |████████████████████████████████| 452 kB 61.9 MB/s \n",
            "\u001b[?25hCollecting accelerate==0.15.0\n",
            "  Downloading accelerate-0.15.0-py3-none-any.whl (191 kB)\n",
            "\u001b[K     |████████████████████████████████| 191 kB 67.2 MB/s \n",
            "\u001b[?25hRequirement already satisfied: pyyaml>=5.1 in /usr/local/lib/python3.8/dist-packages (from transformers==4.25.1) (6.0)\n",
            "Requirement already satisfied: tqdm>=4.27 in /usr/local/lib/python3.8/dist-packages (from transformers==4.25.1) (4.64.1)\n",
            "Requirement already satisfied: regex!=2019.12.17 in /usr/local/lib/python3.8/dist-packages (from transformers==4.25.1) (2022.6.2)\n",
            "Collecting tokenizers!=0.11.3,<0.14,>=0.11.1\n",
            "  Downloading tokenizers-0.13.2-cp38-cp38-manylinux_2_17_x86_64.manylinux2014_x86_64.whl (7.6 MB)\n",
            "\u001b[K     |████████████████████████████████| 7.6 MB 61.3 MB/s \n",
            "\u001b[?25hRequirement already satisfied: packaging>=20.0 in /usr/local/lib/python3.8/dist-packages (from transformers==4.25.1) (21.3)\n",
            "Requirement already satisfied: requests in /usr/local/lib/python3.8/dist-packages (from transformers==4.25.1) (2.23.0)\n",
            "Requirement already satisfied: numpy>=1.17 in /usr/local/lib/python3.8/dist-packages (from transformers==4.25.1) (1.21.6)\n",
            "Collecting huggingface-hub<1.0,>=0.10.0\n",
            "  Downloading huggingface_hub-0.11.1-py3-none-any.whl (182 kB)\n",
            "\u001b[K     |████████████████████████████████| 182 kB 65.6 MB/s \n",
            "\u001b[?25hRequirement already satisfied: filelock in /usr/local/lib/python3.8/dist-packages (from transformers==4.25.1) (3.8.2)\n",
            "Collecting xxhash\n",
            "  Downloading xxhash-3.2.0-cp38-cp38-manylinux_2_17_x86_64.manylinux2014_x86_64.whl (213 kB)\n",
            "\u001b[K     |████████████████████████████████| 213 kB 59.9 MB/s \n",
            "\u001b[?25hCollecting responses<0.19\n",
            "  Downloading responses-0.18.0-py3-none-any.whl (38 kB)\n",
            "Requirement already satisfied: dill<0.3.7 in /usr/local/lib/python3.8/dist-packages (from datasets==2.8.0) (0.3.6)\n",
            "Requirement already satisfied: pandas in /usr/local/lib/python3.8/dist-packages (from datasets==2.8.0) (1.3.5)\n",
            "Collecting multiprocess\n",
            "  Downloading multiprocess-0.70.14-py38-none-any.whl (132 kB)\n",
            "\u001b[K     |████████████████████████████████| 132 kB 66.9 MB/s \n",
            "\u001b[?25hRequirement already satisfied: aiohttp in /usr/local/lib/python3.8/dist-packages (from datasets==2.8.0) (3.8.3)\n",
            "Requirement already satisfied: fsspec[http]>=2021.11.1 in /usr/local/lib/python3.8/dist-packages (from datasets==2.8.0) (2022.11.0)\n",
            "Requirement already satisfied: pyarrow>=6.0.0 in /usr/local/lib/python3.8/dist-packages (from datasets==2.8.0) (9.0.0)\n",
            "Requirement already satisfied: torch>=1.4.0 in /usr/local/lib/python3.8/dist-packages (from accelerate==0.15.0) (1.13.0+cu116)\n",
            "Requirement already satisfied: psutil in /usr/local/lib/python3.8/dist-packages (from accelerate==0.15.0) (5.4.8)\n",
            "Requirement already satisfied: yarl<2.0,>=1.0 in /usr/local/lib/python3.8/dist-packages (from aiohttp->datasets==2.8.0) (1.8.2)\n",
            "Requirement already satisfied: attrs>=17.3.0 in /usr/local/lib/python3.8/dist-packages (from aiohttp->datasets==2.8.0) (22.1.0)\n",
            "Requirement already satisfied: async-timeout<5.0,>=4.0.0a3 in /usr/local/lib/python3.8/dist-packages (from aiohttp->datasets==2.8.0) (4.0.2)\n",
            "Requirement already satisfied: aiosignal>=1.1.2 in /usr/local/lib/python3.8/dist-packages (from aiohttp->datasets==2.8.0) (1.3.1)\n",
            "Requirement already satisfied: multidict<7.0,>=4.5 in /usr/local/lib/python3.8/dist-packages (from aiohttp->datasets==2.8.0) (6.0.3)\n",
            "Requirement already satisfied: frozenlist>=1.1.1 in /usr/local/lib/python3.8/dist-packages (from aiohttp->datasets==2.8.0) (1.3.3)\n",
            "Requirement already satisfied: charset-normalizer<3.0,>=2.0 in /usr/local/lib/python3.8/dist-packages (from aiohttp->datasets==2.8.0) (2.1.1)\n",
            "Requirement already satisfied: typing-extensions>=3.7.4.3 in /usr/local/lib/python3.8/dist-packages (from huggingface-hub<1.0,>=0.10.0->transformers==4.25.1) (4.4.0)\n",
            "Requirement already satisfied: pyparsing!=3.0.5,>=2.0.2 in /usr/local/lib/python3.8/dist-packages (from packaging>=20.0->transformers==4.25.1) (3.0.9)\n",
            "Requirement already satisfied: certifi>=2017.4.17 in /usr/local/lib/python3.8/dist-packages (from requests->transformers==4.25.1) (2022.12.7)\n",
            "Requirement already satisfied: chardet<4,>=3.0.2 in /usr/local/lib/python3.8/dist-packages (from requests->transformers==4.25.1) (3.0.4)\n",
            "Requirement already satisfied: idna<3,>=2.5 in /usr/local/lib/python3.8/dist-packages (from requests->transformers==4.25.1) (2.10)\n",
            "Requirement already satisfied: urllib3!=1.25.0,!=1.25.1,<1.26,>=1.21.1 in /usr/local/lib/python3.8/dist-packages (from requests->transformers==4.25.1) (1.24.3)\n",
            "Collecting urllib3!=1.25.0,!=1.25.1,<1.26,>=1.21.1\n",
            "  Downloading urllib3-1.25.11-py2.py3-none-any.whl (127 kB)\n",
            "\u001b[K     |████████████████████████████████| 127 kB 52.5 MB/s \n",
            "\u001b[?25hRequirement already satisfied: pytz>=2017.3 in /usr/local/lib/python3.8/dist-packages (from pandas->datasets==2.8.0) (2022.6)\n",
            "Requirement already satisfied: python-dateutil>=2.7.3 in /usr/local/lib/python3.8/dist-packages (from pandas->datasets==2.8.0) (2.8.2)\n",
            "Requirement already satisfied: six>=1.5 in /usr/local/lib/python3.8/dist-packages (from python-dateutil>=2.7.3->pandas->datasets==2.8.0) (1.15.0)\n",
            "Installing collected packages: urllib3, xxhash, tokenizers, responses, multiprocess, huggingface-hub, transformers, datasets, accelerate\n",
            "  Attempting uninstall: urllib3\n",
            "    Found existing installation: urllib3 1.24.3\n",
            "    Uninstalling urllib3-1.24.3:\n",
            "      Successfully uninstalled urllib3-1.24.3\n",
            "Successfully installed accelerate-0.15.0 datasets-2.8.0 huggingface-hub-0.11.1 multiprocess-0.70.14 responses-0.18.0 tokenizers-0.13.2 transformers-4.25.1 urllib3-1.25.11 xxhash-3.2.0\n"
          ]
        }
      ],
      "source": [
        "!pip install transformers==4.25.1 datasets==2.8.0 accelerate==0.15.0"
      ]
    },
    {
      "cell_type": "code",
      "execution_count": 2,
      "id": "85afed58",
      "metadata": {
        "execution": {
          "iopub.execute_input": "2022-07-29T08:02:47.456823Z",
          "iopub.status.busy": "2022-07-29T08:02:47.456311Z",
          "iopub.status.idle": "2022-07-29T08:02:55.652551Z",
          "shell.execute_reply": "2022-07-29T08:02:55.651434Z"
        },
        "papermill": {
          "duration": 8.206919,
          "end_time": "2022-07-29T08:02:55.655379",
          "exception": false,
          "start_time": "2022-07-29T08:02:47.448460",
          "status": "completed"
        },
        "tags": [],
        "id": "85afed58"
      },
      "outputs": [],
      "source": [
        "import os\n",
        "import re\n",
        "import pandas as pd\n",
        "import numpy as np\n",
        "import random\n",
        "from sklearn import preprocessing\n",
        "\n",
        "from transformers import AutoTokenizer\n",
        "from datasets import Dataset\n",
        "from transformers import DataCollatorWithPadding\n",
        "from transformers import AutoModelForSequenceClassification, TrainingArguments, Trainer\n",
        "\n",
        "import torch\n",
        "from torch.utils.checkpoint import checkpoint\n",
        "import torch.nn as nn\n",
        "\n",
        "os.environ[\"TOKENIZERS_PARALLELISM\"] = \"true\"\n",
        "os.environ['TRANSFORMERS_NO_ADVISORY_WARNINGS'] = 'true'\n",
        "\n",
        "# Suppress warnings\n",
        "import warnings\n",
        "warnings.filterwarnings(\"ignore\")\n",
        "\n",
        "torch.manual_seed(42)\n",
        "random.seed(0)"
      ]
    },
    {
      "cell_type": "code",
      "execution_count": 3,
      "id": "3d599054",
      "metadata": {
        "execution": {
          "iopub.execute_input": "2022-07-29T08:02:55.684154Z",
          "iopub.status.busy": "2022-07-29T08:02:55.682730Z",
          "iopub.status.idle": "2022-07-29T08:02:55.688388Z",
          "shell.execute_reply": "2022-07-29T08:02:55.687542Z"
        },
        "papermill": {
          "duration": 0.015658,
          "end_time": "2022-07-29T08:02:55.690287",
          "exception": false,
          "start_time": "2022-07-29T08:02:55.674629",
          "status": "completed"
        },
        "tags": [],
        "id": "3d599054"
      },
      "outputs": [],
      "source": [
        "model_name = \"distilbert-base-uncased\""
      ]
    },
    {
      "cell_type": "markdown",
      "id": "c2251a9e",
      "metadata": {
        "papermill": {
          "duration": 0.006329,
          "end_time": "2022-07-29T08:02:55.702967",
          "exception": false,
          "start_time": "2022-07-29T08:02:55.696638",
          "status": "completed"
        },
        "tags": [],
        "id": "c2251a9e"
      },
      "source": [
        "## Prepare Data"
      ]
    },
    {
      "cell_type": "markdown",
      "id": "4e4f7efa",
      "metadata": {
        "papermill": {
          "duration": 0.006866,
          "end_time": "2022-07-29T08:02:55.716076",
          "exception": false,
          "start_time": "2022-07-29T08:02:55.709210",
          "status": "completed"
        },
        "tags": [],
        "id": "4e4f7efa"
      },
      "source": [
        "### Get Data - And apply simple normalization"
      ]
    },
    {
      "cell_type": "code",
      "execution_count": 161,
      "id": "767f22cf",
      "metadata": {
        "id": "767f22cf",
        "outputId": "20985254-bed0-4edc-c4d2-18b79fb1443f",
        "colab": {
          "base_uri": "https://localhost:8080/"
        }
      },
      "outputs": [
        {
          "output_type": "stream",
          "name": "stderr",
          "text": [
            "WARNING:datasets.builder:Found cached dataset trec (/root/.cache/huggingface/datasets/trec/default/2.0.0/f2469cab1b5fceec7249fda55360dfdbd92a7a5b545e91ea0f78ad108ffac1c2)\n",
            "WARNING:datasets.builder:Found cached dataset trec (/root/.cache/huggingface/datasets/trec/default/2.0.0/f2469cab1b5fceec7249fda55360dfdbd92a7a5b545e91ea0f78ad108ffac1c2)\n"
          ]
        }
      ],
      "source": [
        "from datasets import load_dataset\n",
        "\n",
        "train_dataset = load_dataset(\"trec\", split='train')  \n",
        "test_dataset = load_dataset(\"trec\", split = \"test\")\n"
      ]
    },
    {
      "cell_type": "markdown",
      "source": [
        "# Let's make this imbalanced by removing a bunch of examples from class 0 and class 2"
      ],
      "metadata": {
        "id": "dSMlhae7ZIdV"
      },
      "id": "dSMlhae7ZIdV"
    },
    {
      "cell_type": "code",
      "source": [
        "# filter() returns rows that match a specified condition: if probability > .8 and label is 0 or 2, then take it. \n",
        "train_dataset = train_dataset.filter(lambda x:  random.random() > 0.8 if (x[\"coarse_label\"] in (0, 2)) else True)\n"
      ],
      "metadata": {
        "colab": {
          "base_uri": "https://localhost:8080/",
          "height": 49,
          "referenced_widgets": [
            "ffc93400f1034503a1f108d5ef006c5f",
            "593e34ca115a4910be2d678720b6f0cc",
            "f7671bfb57044cf69e6382064bb18314",
            "5d97dc8d13b7488bbc7522a4624577bd",
            "7f1ca610b7944be0844e1ee559b4a950",
            "d12f1e4edab44e79a246682a9700c6d3",
            "a8eb118b0737464e9bc3538afc71f72c",
            "2b2ab4d915c844469e1684f12baff244",
            "bc84508f51dc477582c47c4dc6a9ee9c",
            "6f39806cd0f84edabadd334343a41150",
            "ab18b4405f1a4f28865a921596471352"
          ]
        },
        "id": "eXA0ROSWH9ry",
        "outputId": "f35e38cb-6825-43f5-b630-9a7cf708da09"
      },
      "id": "eXA0ROSWH9ry",
      "execution_count": 163,
      "outputs": [
        {
          "output_type": "display_data",
          "data": {
            "text/plain": [
              "  0%|          | 0/6 [00:00<?, ?ba/s]"
            ],
            "application/vnd.jupyter.widget-view+json": {
              "version_major": 2,
              "version_minor": 0,
              "model_id": "ffc93400f1034503a1f108d5ef006c5f"
            }
          },
          "metadata": {}
        }
      ]
    },
    {
      "cell_type": "code",
      "source": [
        "print(train_dataset.features['coarse_label'].names)\n",
        "print(train_dataset.features['coarse_label'])"
      ],
      "metadata": {
        "colab": {
          "base_uri": "https://localhost:8080/"
        },
        "id": "DTavpMZdaGik",
        "outputId": "86d6b104-ad95-43aa-a1cd-2c9c4272b3f3"
      },
      "id": "DTavpMZdaGik",
      "execution_count": 204,
      "outputs": [
        {
          "output_type": "stream",
          "name": "stdout",
          "text": [
            "['ABBR', 'ENTY', 'DESC', 'HUM', 'LOC', 'NUM']\n",
            "ClassLabel(names=['ABBR', 'ENTY', 'DESC', 'HUM', 'LOC', 'NUM'], id=None)\n"
          ]
        }
      ]
    },
    {
      "cell_type": "code",
      "source": [
        "# import matplotlib.pyplot as plt\n",
        "# train_dataset[\"coarse_label\"].value_counts(ascending=True).plot.barh()\n",
        "# plt.title(\"Frequency of Classes\")\n",
        "# plt.ylabel('Class')\n",
        "# plt.show()  "
      ],
      "metadata": {
        "colab": {
          "base_uri": "https://localhost:8080/",
          "height": 281
        },
        "id": "ySt5blSucKXE",
        "outputId": "a1b496a1-0a05-4523-815a-37ee54ddd699"
      },
      "id": "ySt5blSucKXE",
      "execution_count": 228,
      "outputs": [
        {
          "output_type": "display_data",
          "data": {
            "text/plain": [
              "<Figure size 432x288 with 1 Axes>"
            ],
            "image/png": "[encoded data removed]"
          },
          "metadata": {
            "needs_background": "light"
          }
        }
      ]
    },
    {
      "cell_type": "markdown",
      "source": [
        "# Print frequency of various classes: verify class imbalance"
      ],
      "metadata": {
        "id": "gpjhM7lLdj9P"
      },
      "id": "gpjhM7lLdj9P"
    },
    {
      "cell_type": "code",
      "source": [
        "fig, ax = plt.subplots()\n",
        "_, counts = np.unique(train_dataset[\"coarse_label\"], return_counts=True)\n",
        "ax.bar(train_dataset.features['coarse_label'].names, counts)\n",
        "ax.set_xticks(train_dataset.features['coarse_label'].names)\n",
        "\n",
        "for p in ax.patches:\n",
        "    ax.annotate(str(p.get_height()), (p.get_x() * 1.04, p.get_height() * 1.012))\n",
        "plt.show()"
      ],
      "metadata": {
        "colab": {
          "base_uri": "https://localhost:8080/",
          "height": 265
        },
        "id": "9duyjT0bcrw0",
        "outputId": "77f7d3be-696e-4809-aaa3-45caa12bc86f"
      },
      "id": "9duyjT0bcrw0",
      "execution_count": 247,
      "outputs": [
        {
          "output_type": "display_data",
          "data": {
            "text/plain": [
              "<Figure size 432x288 with 1 Axes>"
            ],
            "image/png": "[encoded data removed]"
          },
          "metadata": {
            "needs_background": "light"
          }
        }
      ]
    },
    {
      "cell_type": "code",
      "source": [
        "train, dev = train_dataset.train_test_split(\n",
        "    test_size = .2,\n",
        "    seed = 42,\n",
        "    stratify_by_column = \"coarse_label\"\n",
        ").values()\n",
        "     "
      ],
      "metadata": {
        "id": "MQQEumuaEZsc"
      },
      "id": "MQQEumuaEZsc",
      "execution_count": 164,
      "outputs": []
    },
    {
      "cell_type": "code",
      "source": [
        "test_dataset"
      ],
      "metadata": {
        "id": "Ztgx_4WqFWQ7",
        "outputId": "48765a3e-8287-4807-ba96-93ef7fc4d017",
        "colab": {
          "base_uri": "https://localhost:8080/"
        }
      },
      "id": "Ztgx_4WqFWQ7",
      "execution_count": 165,
      "outputs": [
        {
          "output_type": "execute_result",
          "data": {
            "text/plain": [
              "Dataset({\n",
              "    features: ['text', 'coarse_label', 'fine_label'],\n",
              "    num_rows: 500\n",
              "})"
            ]
          },
          "metadata": {},
          "execution_count": 165
        }
      ]
    },
    {
      "cell_type": "code",
      "source": [
        "print(dataset[\"train\"].features[\"coarse_label\"])\n",
        "label_names = dataset[\"train\"].features[\"coarse_label\"].names\n",
        "print(label_names)"
      ],
      "metadata": {
        "colab": {
          "base_uri": "https://localhost:8080/"
        },
        "id": "WL005_hFP3Gs",
        "outputId": "7b2f6158-962a-484c-e820-af82650829f2"
      },
      "id": "WL005_hFP3Gs",
      "execution_count": 166,
      "outputs": [
        {
          "output_type": "stream",
          "name": "stdout",
          "text": [
            "ClassLabel(names=['ABBR', 'ENTY', 'DESC', 'HUM', 'LOC', 'NUM'], id=None)\n",
            "['ABBR', 'ENTY', 'DESC', 'HUM', 'LOC', 'NUM']\n"
          ]
        }
      ]
    },
    {
      "cell_type": "code",
      "source": [
        "from datasets import DatasetDict\n",
        "\n",
        "dataset = DatasetDict({\n",
        "    \"train\": train,\n",
        "    \"dev\": dev,\n",
        "    \"test\": test_dataset\n",
        "})"
      ],
      "metadata": {
        "id": "R-8G9YClFnx2"
      },
      "id": "R-8G9YClFnx2",
      "execution_count": 167,
      "outputs": []
    },
    {
      "cell_type": "code",
      "execution_count": 168,
      "id": "eff404e5",
      "metadata": {
        "execution": {
          "iopub.execute_input": "2022-07-29T08:03:21.215859Z",
          "iopub.status.busy": "2022-07-29T08:03:21.214176Z",
          "iopub.status.idle": "2022-07-29T08:03:29.880762Z",
          "shell.execute_reply": "2022-07-29T08:03:29.879787Z"
        },
        "papermill": {
          "duration": 8.676834,
          "end_time": "2022-07-29T08:03:29.883480",
          "exception": false,
          "start_time": "2022-07-29T08:03:21.206646",
          "status": "completed"
        },
        "tags": [],
        "id": "eff404e5"
      },
      "outputs": [],
      "source": [
        "# Get tokenizer\n",
        "tokenizer = AutoTokenizer.from_pretrained(model_name)\n",
        "tokenizer.model_max_length = 512"
      ]
    },
    {
      "cell_type": "code",
      "source": [
        "tokenizer(dataset['train'][0][\"text\"])\n"
      ],
      "metadata": {
        "id": "UqrAsEEP7_Wz",
        "outputId": "01247a1c-72b3-4d46-ca19-bd10a51a9469",
        "colab": {
          "base_uri": "https://localhost:8080/"
        }
      },
      "id": "UqrAsEEP7_Wz",
      "execution_count": 169,
      "outputs": [
        {
          "output_type": "execute_result",
          "data": {
            "text/plain": [
              "{'input_ids': [101, 2129, 2106, 1996, 4535, 1997, 2190, 2158, 2707, 1029, 102], 'attention_mask': [1, 1, 1, 1, 1, 1, 1, 1, 1, 1, 1]}"
            ]
          },
          "metadata": {},
          "execution_count": 169
        }
      ]
    },
    {
      "cell_type": "code",
      "source": [
        "from collections import Counter\n",
        "Counter(test_dataset['coarse_label'])"
      ],
      "metadata": {
        "colab": {
          "base_uri": "https://localhost:8080/"
        },
        "id": "zOkxrjgGKqCU",
        "outputId": "be87ae27-32c5-41de-dbb3-db730d32365b"
      },
      "id": "zOkxrjgGKqCU",
      "execution_count": 170,
      "outputs": [
        {
          "output_type": "execute_result",
          "data": {
            "text/plain": [
              "Counter({5: 113, 4: 81, 3: 65, 2: 138, 1: 94, 0: 9})"
            ]
          },
          "metadata": {},
          "execution_count": 170
        }
      ]
    },
    {
      "cell_type": "markdown",
      "id": "50ed7734",
      "metadata": {
        "jp-MarkdownHeadingCollapsed": true,
        "papermill": {
          "duration": 0.010693,
          "end_time": "2022-07-29T08:03:30.151522",
          "exception": false,
          "start_time": "2022-07-29T08:03:30.140829",
          "status": "completed"
        },
        "tags": [],
        "id": "50ed7734"
      },
      "source": [
        "## Create tokenized dataset"
      ]
    },
    {
      "cell_type": "code",
      "source": [
        "def preprocess_function(examples):\n",
        "    return tokenizer(examples[\"text\"], truncation = True)\n",
        "tokenized_dataset = dataset.map(preprocess_function, batched = True, remove_columns = [\"fine_label\"])\n",
        "tokenized_dataset = tokenized_dataset.rename_column(\"coarse_label\", \"labels\")\n",
        "tokenized_dataset\n"
      ],
      "metadata": {
        "id": "ufbIirey8Bm_",
        "outputId": "cc42782b-8c88-470b-c327-6b8044e3b975",
        "colab": {
          "base_uri": "https://localhost:8080/",
          "height": 361,
          "referenced_widgets": [
            "ccb2264010c942259f57cba75a5506e9",
            "2af3a0e4b17c472d9ae1a872e19256f0",
            "8d9ffc0eb8644e018426426d7738d1d1",
            "8a845715c97a448fbf79ccb56f5c981a",
            "99cfa1bdc94049d39bb88b931de3361d",
            "2e8ff2d818db4dddb172f739e609d2c3",
            "879135ca7b5f4417875256ec2e838265",
            "289efa3d793840dfbff8cc970958a041",
            "91569747fc9a4cfd8c1e314079277794",
            "bbbddb3bacca479991d1e66905cf42f5",
            "cdf4a4587db24dca95478a37dd79bf4a",
            "123a783d2b75481388b482fd0ccc3e41",
            "6a1690ad6b4c4ded8f2d905bb80142c7",
            "5f87a4cce8714680b956d358f185ce20",
            "de8b9c1079e449e59108e89aa7d01204",
            "354762fd4324407591b7fcd641bf23fd",
            "90a36469052e4405972356bfb80c8399",
            "8b90d9e204314cb3b17528c9f2785493",
            "c5dde91b82334507a0adfb44004c6ee5",
            "9b939afdf5da4530b7daee159c5a97fc",
            "c2aa986735c34b13b4e8ee686c659ade",
            "e1a69cfdf09842c894d74ec4c357c287"
          ]
        }
      },
      "id": "ufbIirey8Bm_",
      "execution_count": 171,
      "outputs": [
        {
          "output_type": "display_data",
          "data": {
            "text/plain": [
              "  0%|          | 0/4 [00:00<?, ?ba/s]"
            ],
            "application/vnd.jupyter.widget-view+json": {
              "version_major": 2,
              "version_minor": 0,
              "model_id": "ccb2264010c942259f57cba75a5506e9"
            }
          },
          "metadata": {}
        },
        {
          "output_type": "display_data",
          "data": {
            "text/plain": [
              "  0%|          | 0/1 [00:00<?, ?ba/s]"
            ],
            "application/vnd.jupyter.widget-view+json": {
              "version_major": 2,
              "version_minor": 0,
              "model_id": "123a783d2b75481388b482fd0ccc3e41"
            }
          },
          "metadata": {}
        },
        {
          "output_type": "stream",
          "name": "stderr",
          "text": [
            "WARNING:datasets.arrow_dataset:Loading cached processed dataset at /root/.cache/huggingface/datasets/trec/default/2.0.0/f2469cab1b5fceec7249fda55360dfdbd92a7a5b545e91ea0f78ad108ffac1c2/cache-bff62177ab1edb16.arrow\n"
          ]
        },
        {
          "output_type": "execute_result",
          "data": {
            "text/plain": [
              "DatasetDict({\n",
              "    train: Dataset({\n",
              "        features: ['text', 'labels', 'input_ids', 'attention_mask'],\n",
              "        num_rows: 3573\n",
              "    })\n",
              "    dev: Dataset({\n",
              "        features: ['text', 'labels', 'input_ids', 'attention_mask'],\n",
              "        num_rows: 894\n",
              "    })\n",
              "    test: Dataset({\n",
              "        features: ['text', 'labels', 'input_ids', 'attention_mask'],\n",
              "        num_rows: 500\n",
              "    })\n",
              "})"
            ]
          },
          "metadata": {},
          "execution_count": 171
        }
      ]
    },
    {
      "cell_type": "code",
      "source": [
        "from collections import Counter\n",
        "print(Counter(tokenized_dataset['train']['labels']))\n",
        "print(Counter(tokenized_dataset['dev']['labels']))\n",
        "print(Counter(tokenized_dataset['test']['labels']))\n"
      ],
      "metadata": {
        "colab": {
          "base_uri": "https://localhost:8080/"
        },
        "id": "mxaRfYV9Juh1",
        "outputId": "b558751b-bfcf-4f7c-dafa-6138c6d55147"
      },
      "id": "mxaRfYV9Juh1",
      "execution_count": 174,
      "outputs": [
        {
          "output_type": "stream",
          "name": "stdout",
          "text": [
            "Counter({1: 1000, 3: 978, 5: 717, 4: 668, 2: 196, 0: 14})\n",
            "Counter({1: 250, 3: 245, 5: 179, 4: 167, 2: 49, 0: 4})\n",
            "Counter({2: 138, 5: 113, 1: 94, 4: 81, 3: 65, 0: 9})\n"
          ]
        }
      ]
    },
    {
      "cell_type": "markdown",
      "id": "0279743c",
      "metadata": {
        "papermill": {
          "duration": 0.006805,
          "end_time": "2022-07-29T08:03:29.897684",
          "exception": false,
          "start_time": "2022-07-29T08:03:29.890879",
          "status": "completed"
        },
        "tags": [],
        "id": "0279743c"
      },
      "source": [
        "### Create a label column and input column\n",
        "* Input is going to be [discourse_text + essay_text]\n",
        "* Label is going to be numericalised version of the three classes"
      ]
    },
    {
      "cell_type": "markdown",
      "id": "a63799b0",
      "metadata": {
        "jp-MarkdownHeadingCollapsed": true,
        "papermill": {
          "duration": 0.007245,
          "end_time": "2022-07-29T08:04:45.948369",
          "exception": false,
          "start_time": "2022-07-29T08:04:45.941124",
          "status": "completed"
        },
        "tags": [],
        "id": "a63799b0"
      },
      "source": [
        "## Define Dynamic padding"
      ]
    },
    {
      "cell_type": "code",
      "execution_count": 175,
      "id": "36c956c1",
      "metadata": {
        "execution": {
          "iopub.execute_input": "2022-07-29T08:04:45.965143Z",
          "iopub.status.busy": "2022-07-29T08:04:45.964788Z",
          "iopub.status.idle": "2022-07-29T08:04:45.969798Z",
          "shell.execute_reply": "2022-07-29T08:04:45.968718Z"
        },
        "papermill": {
          "duration": 0.015811,
          "end_time": "2022-07-29T08:04:45.971838",
          "exception": false,
          "start_time": "2022-07-29T08:04:45.956027",
          "status": "completed"
        },
        "tags": [],
        "id": "36c956c1"
      },
      "outputs": [],
      "source": [
        "data_collator = DataCollatorWithPadding(tokenizer=tokenizer)"
      ]
    },
    {
      "cell_type": "markdown",
      "id": "c7df8b9e",
      "metadata": {
        "jp-MarkdownHeadingCollapsed": true,
        "papermill": {
          "duration": 0.007587,
          "end_time": "2022-07-29T08:04:45.986765",
          "exception": false,
          "start_time": "2022-07-29T08:04:45.979178",
          "status": "completed"
        },
        "tags": [],
        "id": "c7df8b9e"
      },
      "source": [
        "## Define model"
      ]
    },
    {
      "cell_type": "code",
      "execution_count": 176,
      "id": "79556705",
      "metadata": {
        "execution": {
          "iopub.execute_input": "2022-07-29T08:04:46.004059Z",
          "iopub.status.busy": "2022-07-29T08:04:46.002491Z",
          "iopub.status.idle": "2022-07-29T08:05:09.827878Z",
          "shell.execute_reply": "2022-07-29T08:05:09.827029Z"
        },
        "papermill": {
          "duration": 23.835787,
          "end_time": "2022-07-29T08:05:09.829949",
          "exception": false,
          "start_time": "2022-07-29T08:04:45.994162",
          "status": "completed"
        },
        "tags": [],
        "id": "79556705"
      },
      "outputs": [],
      "source": [
        "model = AutoModelForSequenceClassification.from_pretrained(model_name, num_labels=6)"
      ]
    },
    {
      "cell_type": "markdown",
      "id": "a2853daa",
      "metadata": {
        "papermill": {
          "duration": 0.007372,
          "end_time": "2022-07-29T08:05:09.845845",
          "exception": false,
          "start_time": "2022-07-29T08:05:09.838473",
          "status": "completed"
        },
        "tags": [],
        "id": "a2853daa"
      },
      "source": [
        "## Define Training Arguments"
      ]
    },
    {
      "cell_type": "code",
      "execution_count": 177,
      "id": "d203542c",
      "metadata": {
        "execution": {
          "iopub.execute_input": "2022-07-29T08:05:09.862894Z",
          "iopub.status.busy": "2022-07-29T08:05:09.862309Z",
          "iopub.status.idle": "2022-07-29T08:05:09.932111Z",
          "shell.execute_reply": "2022-07-29T08:05:09.931049Z"
        },
        "papermill": {
          "duration": 0.081008,
          "end_time": "2022-07-29T08:05:09.934334",
          "exception": false,
          "start_time": "2022-07-29T08:05:09.853326",
          "status": "completed"
        },
        "tags": [],
        "id": "d203542c"
      },
      "outputs": [],
      "source": [
        "def trainaug(runname):\n",
        "    training_args = TrainingArguments(\n",
        "        run_name=runname,\n",
        "        output_dir=\"./results\",\n",
        "        num_train_epochs=5,\n",
        "        evaluation_strategy=\"epoch\",\n",
        "        save_strategy=\"epoch\",\n",
        "        warmup_ratio=0.1, \n",
        "        lr_scheduler_type='cosine',\n",
        "        auto_find_batch_size=True,\n",
        "        gradient_accumulation_steps=4,\n",
        "        fp16=True, # uncomment if training on GPU\n",
        "        log_level=\"error\",\n",
        "    )\n",
        "    return training_args\n",
        "\n",
        "training_args = trainaug(model_name)"
      ]
    },
    {
      "cell_type": "code",
      "execution_count": 178,
      "id": "baab576f",
      "metadata": {
        "execution": {
          "iopub.execute_input": "2022-07-29T08:05:14.874803Z",
          "iopub.status.busy": "2022-07-29T08:05:14.874511Z",
          "iopub.status.idle": "2022-07-29T08:05:14.881277Z",
          "shell.execute_reply": "2022-07-29T08:05:14.880314Z"
        },
        "papermill": {
          "duration": 0.01826,
          "end_time": "2022-07-29T08:05:14.883235",
          "exception": false,
          "start_time": "2022-07-29T08:05:14.864975",
          "status": "completed"
        },
        "tags": [],
        "id": "baab576f"
      },
      "outputs": [],
      "source": [
        "from transformers import EvalPrediction\n",
        "from typing import Dict\n",
        "from sklearn.metrics import precision_score, recall_score, f1_score\n",
        "\n",
        "def custom_compute_metrics(res: EvalPrediction) -> Dict:\n",
        "    pred = res.predictions.argmax(axis=1)\n",
        "    target = res.label_ids\n",
        "    precision = precision_score(target, pred, average='macro')\n",
        "    recall = recall_score(target, pred, average='macro')\n",
        "    f1 = f1_score(target, pred, average='macro')\n",
        "    return {\n",
        "        'precision': precision,\n",
        "        'recall': recall,\n",
        "        'f1': f1\n",
        "    }\n",
        "\n",
        "class CustomTrainer(Trainer):\n",
        "    def compute_loss(self, model, inputs, return_outputs=False):\n",
        "        # print(inputs)\n",
        "        labels = inputs.get(\"labels\")\n",
        "        outputs = model(**inputs)\n",
        "        logits = outputs.get('logits')\n",
        "        loss_fct = nn.CrossEntropyLoss()\n",
        "        loss = loss_fct(logits.view(-1, self.model.config.num_labels), labels.view(-1))\n",
        "        return (loss, outputs) if return_outputs else loss"
      ]
    },
    {
      "cell_type": "markdown",
      "id": "0e4b0b3c",
      "metadata": {
        "jp-MarkdownHeadingCollapsed": true,
        "papermill": {
          "duration": 0.007466,
          "end_time": "2022-07-29T08:05:14.898352",
          "exception": false,
          "start_time": "2022-07-29T08:05:14.890886",
          "status": "completed"
        },
        "tags": [],
        "id": "0e4b0b3c"
      },
      "source": [
        "## Define Trainer"
      ]
    },
    {
      "cell_type": "code",
      "execution_count": 179,
      "id": "d14a5602",
      "metadata": {
        "execution": {
          "iopub.execute_input": "2022-07-29T08:05:14.915450Z",
          "iopub.status.busy": "2022-07-29T08:05:14.914799Z",
          "iopub.status.idle": "2022-07-29T08:05:15.124822Z",
          "shell.execute_reply": "2022-07-29T08:05:15.123926Z"
        },
        "papermill": {
          "duration": 0.220944,
          "end_time": "2022-07-29T08:05:15.127028",
          "exception": false,
          "start_time": "2022-07-29T08:05:14.906084",
          "status": "completed"
        },
        "tags": [],
        "id": "d14a5602"
      },
      "outputs": [],
      "source": [
        "trainer = CustomTrainer(\n",
        "    model=model,\n",
        "    args=training_args,\n",
        "    train_dataset=tokenized_dataset['train'],\n",
        "    eval_dataset=tokenized_dataset['dev'],\n",
        "    tokenizer=tokenizer,\n",
        "    data_collator=data_collator,\n",
        "    compute_metrics=custom_compute_metrics,\n",
        ")"
      ]
    },
    {
      "cell_type": "markdown",
      "id": "f3cd9a44",
      "metadata": {
        "jp-MarkdownHeadingCollapsed": true,
        "papermill": {
          "duration": 0.007785,
          "end_time": "2022-07-29T08:05:15.142826",
          "exception": false,
          "start_time": "2022-07-29T08:05:15.135041",
          "status": "completed"
        },
        "tags": [],
        "id": "f3cd9a44"
      },
      "source": [
        "## Train the model"
      ]
    },
    {
      "cell_type": "code",
      "execution_count": 181,
      "id": "7d3a6295",
      "metadata": {
        "execution": {
          "iopub.execute_input": "2022-07-29T08:05:15.159835Z",
          "iopub.status.busy": "2022-07-29T08:05:15.159519Z",
          "iopub.status.idle": "2022-07-29T09:35:25.442800Z",
          "shell.execute_reply": "2022-07-29T09:35:25.442019Z"
        },
        "papermill": {
          "duration": 5410.295235,
          "end_time": "2022-07-29T09:35:25.445796",
          "exception": false,
          "start_time": "2022-07-29T08:05:15.150561",
          "status": "completed"
        },
        "scrolled": true,
        "tags": [],
        "id": "7d3a6295",
        "outputId": "12b73445-8aa3-47fe-abc6-68ff4b2d3c11",
        "colab": {
          "base_uri": "https://localhost:8080/"
        }
      },
      "outputs": [
        {
          "output_type": "stream",
          "name": "stdout",
          "text": [
            "{'eval_loss': 0.22995631396770477, 'eval_precision': 0.8538004882253186, 'eval_recall': 0.8230612838853134, 'eval_f1': 0.8311512956076484, 'eval_runtime': 1.0611, 'eval_samples_per_second': 842.522, 'eval_steps_per_second': 105.551, 'epoch': 0.99}\n",
            "{'eval_loss': 0.2348276972770691, 'eval_precision': 0.8598575075717932, 'eval_recall': 0.8216599233410956, 'eval_f1': 0.8337832010999966, 'eval_runtime': 1.074, 'eval_samples_per_second': 832.413, 'eval_steps_per_second': 104.284, 'epoch': 1.99}\n",
            "{'eval_loss': 0.2348516881465912, 'eval_precision': 0.8598575075717932, 'eval_recall': 0.8216599233410956, 'eval_f1': 0.8337832010999966, 'eval_runtime': 1.0485, 'eval_samples_per_second': 852.65, 'eval_steps_per_second': 106.82, 'epoch': 2.99}\n",
            "{'eval_loss': 0.2375689148902893, 'eval_precision': 0.8578800701614325, 'eval_recall': 0.8155374743615038, 'eval_f1': 0.8297318411002615, 'eval_runtime': 1.0649, 'eval_samples_per_second': 839.513, 'eval_steps_per_second': 105.174, 'epoch': 3.99}\n",
            "{'loss': 0.0238, 'learning_rate': 1.2454591703082925e-05, 'epoch': 4.5}\n",
            "{'eval_loss': 0.24628907442092896, 'eval_precision': 0.8702465728925518, 'eval_recall': 0.8161633247016399, 'eval_f1': 0.8356526152133371, 'eval_runtime': 1.0599, 'eval_samples_per_second': 843.472, 'eval_steps_per_second': 105.67, 'epoch': 4.99}\n",
            "{'train_runtime': 90.7483, 'train_samples_per_second': 196.863, 'train_steps_per_second': 6.116, 'train_loss': 0.022127373046703168, 'epoch': 4.99}\n"
          ]
        },
        {
          "output_type": "execute_result",
          "data": {
            "text/plain": [
              "TrainOutput(global_step=555, training_loss=0.022127373046703168, metrics={'train_runtime': 90.7483, 'train_samples_per_second': 196.863, 'train_steps_per_second': 6.116, 'train_loss': 0.022127373046703168, 'epoch': 4.99})"
            ]
          },
          "metadata": {},
          "execution_count": 181
        }
      ],
      "source": [
        "trainer.train()"
      ]
    },
    {
      "cell_type": "markdown",
      "source": [
        "Our best F1-score is 0.766 at 6th epoch."
      ],
      "metadata": {
        "id": "lV_H42iSDyyD"
      },
      "id": "lV_H42iSDyyD"
    },
    {
      "cell_type": "code",
      "source": [
        "predictions, labels, _ = trainer.predict(tokenized_dataset['test'])\n",
        "predictions = np.argmax(predictions, axis = 1)\n"
      ],
      "metadata": {
        "id": "72ygfyy6JDrT"
      },
      "id": "72ygfyy6JDrT",
      "execution_count": 182,
      "outputs": []
    },
    {
      "cell_type": "code",
      "source": [
        "from sklearn.metrics import confusion_matrix, classification_report, accuracy_score, precision_score, recall_score, f1_score\n",
        "\n",
        "print(classification_report(predictions, labels))\n"
      ],
      "metadata": {
        "id": "-8UHZnVVJtcv",
        "colab": {
          "base_uri": "https://localhost:8080/"
        },
        "outputId": "a0543115-6b7e-4c89-f9aa-61be712af135"
      },
      "id": "-8UHZnVVJtcv",
      "execution_count": 183,
      "outputs": [
        {
          "output_type": "stream",
          "name": "stdout",
          "text": [
            "              precision    recall  f1-score   support\n",
            "\n",
            "           0       0.67      1.00      0.80         6\n",
            "           1       0.93      0.78      0.85       111\n",
            "           2       0.80      0.97      0.88       115\n",
            "           3       0.98      0.96      0.97        67\n",
            "           4       0.99      0.98      0.98        82\n",
            "           5       0.99      0.94      0.97       119\n",
            "\n",
            "    accuracy                           0.92       500\n",
            "   macro avg       0.89      0.94      0.91       500\n",
            "weighted avg       0.93      0.92      0.92       500\n",
            "\n"
          ]
        }
      ]
    },
    {
      "cell_type": "code",
      "source": [
        "from sklearn.metrics import ConfusionMatrixDisplay, confusion_matrix\n",
        "import matplotlib.pyplot as plt\n",
        "\n",
        "def plot_confusion_matrix(y_preds, y_true, labels):\n",
        "    cm = confusion_matrix(y_true, y_preds, normalize=\"true\")\n",
        "    fig, ax = plt.subplots(figsize=(6, 6))\n",
        "    disp = ConfusionMatrixDisplay(confusion_matrix=cm, display_labels=labels)\n",
        "    disp.plot(cmap=\"Blues\", values_format=\".2f\", ax=ax, colorbar=False)\n",
        "    plt.title(\"Normalized confusion matrix\")\n",
        "    plt.show()\n",
        "    \n",
        "plot_confusion_matrix(predictions, labels, label_names)"
      ],
      "metadata": {
        "colab": {
          "base_uri": "https://localhost:8080/",
          "height": 404
        },
        "id": "U55GE0XiOWZJ",
        "outputId": "7e5d344a-4677-4746-9c9e-46cb8ed27e3f"
      },
      "id": "U55GE0XiOWZJ",
      "execution_count": 184,
      "outputs": [
        {
          "output_type": "display_data",
          "data": {
            "text/plain": [
              "<Figure size 432x432 with 1 Axes>"
            ],
            "image/png": "[encoded data removed]"
          },
          "metadata": {
            "needs_background": "light"
          }
        }
      ]
    },
    {
      "cell_type": "markdown",
      "source": [
        "# Let's get the class weights for the dataset using sklearn's `compute_class_weight` API"
      ],
      "metadata": {
        "id": "6VLOJorP3fqJ"
      },
      "id": "6VLOJorP3fqJ"
    },
    {
      "cell_type": "code",
      "source": [
        "# use the class_weights obtained using sklearn's compute_class_weight function\n",
        "from sklearn.utils import class_weight\n",
        "from collections import Counter\n",
        "y = dataset[\"train\"]['coarse_label']\n",
        "class_weights = class_weight.compute_class_weight('balanced', classes=np.unique(y),y=np.asarray(y))\n",
        "class_weights"
      ],
      "metadata": {
        "id": "1YBHx2r26C_8",
        "colab": {
          "base_uri": "https://localhost:8080/"
        },
        "outputId": "1b41c9b7-b6d3-46ee-8b4d-b7bf9c8e1e41"
      },
      "id": "1YBHx2r26C_8",
      "execution_count": 185,
      "outputs": [
        {
          "output_type": "execute_result",
          "data": {
            "text/plain": [
              "array([42.53571429,  0.5955    ,  3.03826531,  0.60889571,  0.89146707,\n",
              "        0.83054393])"
            ]
          },
          "metadata": {},
          "execution_count": 185
        }
      ]
    },
    {
      "cell_type": "code",
      "source": [
        "class CustomTrainerWeighted(Trainer):\n",
        "    def compute_loss(self, model, inputs, return_outputs=False):\n",
        "        labels = inputs.get(\"labels\")\n",
        "        outputs = model(**inputs)\n",
        "        logits = outputs.get('logits')\n",
        "        loss_fct = nn.CrossEntropyLoss(weight=torch.from_numpy(class_weights).cuda(0).float()) # using gpu\n",
        "        loss = loss_fct(logits.view(-1, self.model.config.num_labels), labels.view(-1))\n",
        "        return (loss, outputs) if return_outputs else loss"
      ],
      "metadata": {
        "id": "jOJA3_mxy-BE"
      },
      "id": "jOJA3_mxy-BE",
      "execution_count": 186,
      "outputs": []
    },
    {
      "cell_type": "code",
      "source": [
        "modelWeighted = AutoModelForSequenceClassification.from_pretrained(model_name, num_labels=6)\n",
        "\n",
        "trainerWeighted = CustomTrainerWeighted(\n",
        "    model=modelWeighted,\n",
        "    args=training_args,\n",
        "    train_dataset=tokenized_dataset['train'],\n",
        "    eval_dataset=tokenized_dataset['dev'],\n",
        "    tokenizer=tokenizer,\n",
        "    data_collator=data_collator,\n",
        "    compute_metrics=custom_compute_metrics,\n",
        ")\n"
      ],
      "metadata": {
        "id": "hyR6Bm3X37Aj"
      },
      "id": "hyR6Bm3X37Aj",
      "execution_count": 187,
      "outputs": []
    },
    {
      "cell_type": "code",
      "source": [
        "trainerWeighted.train()"
      ],
      "metadata": {
        "id": "mtxQ5Km54Xaz",
        "colab": {
          "base_uri": "https://localhost:8080/"
        },
        "outputId": "64d48c58-9347-499a-b891-9da67b8ac6bd"
      },
      "id": "mtxQ5Km54Xaz",
      "execution_count": 188,
      "outputs": [
        {
          "output_type": "stream",
          "name": "stdout",
          "text": [
            "{'eval_loss': 0.3635643720626831, 'eval_precision': 0.7475485938860401, 'eval_recall': 0.7732515122531133, 'eval_f1': 0.75818463583422, 'eval_runtime': 1.0694, 'eval_samples_per_second': 835.96, 'eval_steps_per_second': 104.729, 'epoch': 0.99}\n",
            "{'eval_loss': 0.3226809799671173, 'eval_precision': 0.7927437455013017, 'eval_recall': 0.8217658967778728, 'eval_f1': 0.805034678565571, 'eval_runtime': 1.0762, 'eval_samples_per_second': 830.7, 'eval_steps_per_second': 104.07, 'epoch': 1.99}\n",
            "{'eval_loss': 0.40748149156570435, 'eval_precision': 0.8699273925750085, 'eval_recall': 0.8241602661738431, 'eval_f1': 0.8400026283545089, 'eval_runtime': 1.0911, 'eval_samples_per_second': 819.38, 'eval_steps_per_second': 102.652, 'epoch': 2.99}\n",
            "{'eval_loss': 0.41149285435676575, 'eval_precision': 0.8374219736469534, 'eval_recall': 0.827102100211844, 'eval_f1': 0.8312235810245793, 'eval_runtime': 1.0288, 'eval_samples_per_second': 868.941, 'eval_steps_per_second': 108.861, 'epoch': 3.99}\n",
            "{'loss': 0.2914, 'learning_rate': 1.5925484859056373e-06, 'epoch': 4.5}\n",
            "{'eval_loss': 0.4186718165874481, 'eval_precision': 0.8365022104273275, 'eval_recall': 0.8264354335451775, 'eval_f1': 0.8304136312653253, 'eval_runtime': 1.0797, 'eval_samples_per_second': 828.001, 'eval_steps_per_second': 103.732, 'epoch': 4.99}\n",
            "{'train_runtime': 94.9182, 'train_samples_per_second': 188.215, 'train_steps_per_second': 5.847, 'train_loss': 0.26340277339961077, 'epoch': 4.99}\n"
          ]
        },
        {
          "output_type": "execute_result",
          "data": {
            "text/plain": [
              "TrainOutput(global_step=555, training_loss=0.26340277339961077, metrics={'train_runtime': 94.9182, 'train_samples_per_second': 188.215, 'train_steps_per_second': 5.847, 'train_loss': 0.26340277339961077, 'epoch': 4.99})"
            ]
          },
          "metadata": {},
          "execution_count": 188
        }
      ]
    },
    {
      "cell_type": "markdown",
      "source": [
        "Our best F1-score is 0.773 at 7th epoch, which is a bit more than the score(=0.769) obtained without class weighting."
      ],
      "metadata": {
        "id": "M5pjg6VQEAE8"
      },
      "id": "M5pjg6VQEAE8"
    },
    {
      "cell_type": "code",
      "source": [
        "predictions, labels, _ = trainerWeighted.predict(tokenized_dataset['test'])\n",
        "predictions = np.argmax(predictions, axis = 1)\n",
        "print(classification_report(predictions, labels))"
      ],
      "metadata": {
        "id": "fUjUijpz4YNl",
        "colab": {
          "base_uri": "https://localhost:8080/"
        },
        "outputId": "d14caf14-fab4-4752-cf6f-66be9117fb49"
      },
      "id": "fUjUijpz4YNl",
      "execution_count": 189,
      "outputs": [
        {
          "output_type": "stream",
          "name": "stdout",
          "text": [
            "              precision    recall  f1-score   support\n",
            "\n",
            "           0       0.78      1.00      0.88         7\n",
            "           1       0.91      0.96      0.93        90\n",
            "           2       0.96      0.96      0.96       138\n",
            "           3       0.98      0.97      0.98        66\n",
            "           4       1.00      0.96      0.98        84\n",
            "           5       0.99      0.97      0.98       115\n",
            "\n",
            "    accuracy                           0.97       500\n",
            "   macro avg       0.94      0.97      0.95       500\n",
            "weighted avg       0.97      0.97      0.97       500\n",
            "\n"
          ]
        }
      ]
    },
    {
      "cell_type": "code",
      "source": [
        "plot_confusion_matrix(predictions, labels, label_names)"
      ],
      "metadata": {
        "id": "8DQ0XKjnMWdm",
        "colab": {
          "base_uri": "https://localhost:8080/",
          "height": 404
        },
        "outputId": "8337d05f-d24a-4b12-929b-cb0060afedd9"
      },
      "id": "8DQ0XKjnMWdm",
      "execution_count": 190,
      "outputs": [
        {
          "output_type": "display_data",
          "data": {
            "text/plain": [
              "<Figure size 432x432 with 1 Axes>"
            ],
            "image/png": "[encoded data removed]"
          },
          "metadata": {
            "needs_background": "light"
          }
        }
      ]
    },
    {
      "cell_type": "code",
      "source": [],
      "metadata": {
        "id": "a80sLObSWa0l"
      },
      "id": "a80sLObSWa0l",
      "execution_count": null,
      "outputs": []
    }
  ],
  "metadata": {
    "kernelspec": {
      "display_name": "Python 3 (ipykernel)",
      "language": "python",
      "name": "python3"
    },
    "language_info": {
      "codemirror_mode": {
        "name": "ipython",
        "version": 3
      },
      "file_extension": ".py",
      "mimetype": "text/x-python",
      "name": "python",
      "nbconvert_exporter": "python",
      "pygments_lexer": "ipython3",
      "version": "3.8.13"
    },
    "papermill": {
      "default_parameters": {},
      "duration": 5573.852451,
      "end_time": "2022-07-29T09:35:33.167016",
      "environment_variables": {},
      "exception": null,
      "input_path": "__notebook__.ipynb",
      "output_path": "__notebook__.ipynb",
      "parameters": {},
      "start_time": "2022-07-29T08:02:39.314565",
      "version": "2.3.4"
    },
    "widgets": {
      "application/vnd.jupyter.widget-state+json": {
        "ffc93400f1034503a1f108d5ef006c5f": {
          "model_module": "@jupyter-widgets/controls",
          "model_name": "HBoxModel",
          "model_module_version": "1.5.0",
          "state": {
            "_dom_classes": [],
            "_model_module": "@jupyter-widgets/controls",
            "_model_module_version": "1.5.0",
            "_model_name": "HBoxModel",
            "_view_count": null,
            "_view_module": "@jupyter-widgets/controls",
            "_view_module_version": "1.5.0",
            "_view_name": "HBoxView",
            "box_style": "",
            "children": [
              "IPY_MODEL_593e34ca115a4910be2d678720b6f0cc",
              "IPY_MODEL_f7671bfb57044cf69e6382064bb18314",
              "IPY_MODEL_5d97dc8d13b7488bbc7522a4624577bd"
            ],
            "layout": "IPY_MODEL_7f1ca610b7944be0844e1ee559b4a950"
          }
        },
        "593e34ca115a4910be2d678720b6f0cc": {
          "model_module": "@jupyter-widgets/controls",
          "model_name": "HTMLModel",
          "model_module_version": "1.5.0",
          "state": {
            "_dom_classes": [],
            "_model_module": "@jupyter-widgets/controls",
            "_model_module_version": "1.5.0",
            "_model_name": "HTMLModel",
            "_view_count": null,
            "_view_module": "@jupyter-widgets/controls",
            "_view_module_version": "1.5.0",
            "_view_name": "HTMLView",
            "description": "",
            "description_tooltip": null,
            "layout": "IPY_MODEL_d12f1e4edab44e79a246682a9700c6d3",
            "placeholder": "​",
            "style": "IPY_MODEL_a8eb118b0737464e9bc3538afc71f72c",
            "value": "100%"
          }
        },
        "f7671bfb57044cf69e6382064bb18314": {
          "model_module": "@jupyter-widgets/controls",
          "model_name": "FloatProgressModel",
          "model_module_version": "1.5.0",
          "state": {
            "_dom_classes": [],
            "_model_module": "@jupyter-widgets/controls",
            "_model_module_version": "1.5.0",
            "_model_name": "FloatProgressModel",
            "_view_count": null,
            "_view_module": "@jupyter-widgets/controls",
            "_view_module_version": "1.5.0",
            "_view_name": "ProgressView",
            "bar_style": "success",
            "description": "",
            "description_tooltip": null,
            "layout": "IPY_MODEL_2b2ab4d915c844469e1684f12baff244",
            "max": 6,
            "min": 0,
            "orientation": "horizontal",
            "style": "IPY_MODEL_bc84508f51dc477582c47c4dc6a9ee9c",
            "value": 6
          }
        },
        "5d97dc8d13b7488bbc7522a4624577bd": {
          "model_module": "@jupyter-widgets/controls",
          "model_name": "HTMLModel",
          "model_module_version": "1.5.0",
          "state": {
            "_dom_classes": [],
            "_model_module": "@jupyter-widgets/controls",
            "_model_module_version": "1.5.0",
            "_model_name": "HTMLModel",
            "_view_count": null,
            "_view_module": "@jupyter-widgets/controls",
            "_view_module_version": "1.5.0",
            "_view_name": "HTMLView",
            "description": "",
            "description_tooltip": null,
            "layout": "IPY_MODEL_6f39806cd0f84edabadd334343a41150",
            "placeholder": "​",
            "style": "IPY_MODEL_ab18b4405f1a4f28865a921596471352",
            "value": " 6/6 [00:00&lt;00:00, 80.46ba/s]"
          }
        },
        "7f1ca610b7944be0844e1ee559b4a950": {
          "model_module": "@jupyter-widgets/base",
          "model_name": "LayoutModel",
          "model_module_version": "1.2.0",
          "state": {
            "_model_module": "@jupyter-widgets/base",
            "_model_module_version": "1.2.0",
            "_model_name": "LayoutModel",
            "_view_count": null,
            "_view_module": "@jupyter-widgets/base",
            "_view_module_version": "1.2.0",
            "_view_name": "LayoutView",
            "align_content": null,
            "align_items": null,
            "align_self": null,
            "border": null,
            "bottom": null,
            "display": null,
            "flex": null,
            "flex_flow": null,
            "grid_area": null,
            "grid_auto_columns": null,
            "grid_auto_flow": null,
            "grid_auto_rows": null,
            "grid_column": null,
            "grid_gap": null,
            "grid_row": null,
            "grid_template_areas": null,
            "grid_template_columns": null,
            "grid_template_rows": null,
            "height": null,
            "justify_content": null,
            "justify_items": null,
            "left": null,
            "margin": null,
            "max_height": null,
            "max_width": null,
            "min_height": null,
            "min_width": null,
            "object_fit": null,
            "object_position": null,
            "order": null,
            "overflow": null,
            "overflow_x": null,
            "overflow_y": null,
            "padding": null,
            "right": null,
            "top": null,
            "visibility": null,
            "width": null
          }
        },
        "d12f1e4edab44e79a246682a9700c6d3": {
          "model_module": "@jupyter-widgets/base",
          "model_name": "LayoutModel",
          "model_module_version": "1.2.0",
          "state": {
            "_model_module": "@jupyter-widgets/base",
            "_model_module_version": "1.2.0",
            "_model_name": "LayoutModel",
            "_view_count": null,
            "_view_module": "@jupyter-widgets/base",
            "_view_module_version": "1.2.0",
            "_view_name": "LayoutView",
            "align_content": null,
            "align_items": null,
            "align_self": null,
            "border": null,
            "bottom": null,
            "display": null,
            "flex": null,
            "flex_flow": null,
            "grid_area": null,
            "grid_auto_columns": null,
            "grid_auto_flow": null,
            "grid_auto_rows": null,
            "grid_column": null,
            "grid_gap": null,
            "grid_row": null,
            "grid_template_areas": null,
            "grid_template_columns": null,
            "grid_template_rows": null,
            "height": null,
            "justify_content": null,
            "justify_items": null,
            "left": null,
            "margin": null,
            "max_height": null,
            "max_width": null,
            "min_height": null,
            "min_width": null,
            "object_fit": null,
            "object_position": null,
            "order": null,
            "overflow": null,
            "overflow_x": null,
            "overflow_y": null,
            "padding": null,
            "right": null,
            "top": null,
            "visibility": null,
            "width": null
          }
        },
        "a8eb118b0737464e9bc3538afc71f72c": {
          "model_module": "@jupyter-widgets/controls",
          "model_name": "DescriptionStyleModel",
          "model_module_version": "1.5.0",
          "state": {
            "_model_module": "@jupyter-widgets/controls",
            "_model_module_version": "1.5.0",
            "_model_name": "DescriptionStyleModel",
            "_view_count": null,
            "_view_module": "@jupyter-widgets/base",
            "_view_module_version": "1.2.0",
            "_view_name": "StyleView",
            "description_width": ""
          }
        },
        "2b2ab4d915c844469e1684f12baff244": {
          "model_module": "@jupyter-widgets/base",
          "model_name": "LayoutModel",
          "model_module_version": "1.2.0",
          "state": {
            "_model_module": "@jupyter-widgets/base",
            "_model_module_version": "1.2.0",
            "_model_name": "LayoutModel",
            "_view_count": null,
            "_view_module": "@jupyter-widgets/base",
            "_view_module_version": "1.2.0",
            "_view_name": "LayoutView",
            "align_content": null,
            "align_items": null,
            "align_self": null,
            "border": null,
            "bottom": null,
            "display": null,
            "flex": null,
            "flex_flow": null,
            "grid_area": null,
            "grid_auto_columns": null,
            "grid_auto_flow": null,
            "grid_auto_rows": null,
            "grid_column": null,
            "grid_gap": null,
            "grid_row": null,
            "grid_template_areas": null,
            "grid_template_columns": null,
            "grid_template_rows": null,
            "height": null,
            "justify_content": null,
            "justify_items": null,
            "left": null,
            "margin": null,
            "max_height": null,
            "max_width": null,
            "min_height": null,
            "min_width": null,
            "object_fit": null,
            "object_position": null,
            "order": null,
            "overflow": null,
            "overflow_x": null,
            "overflow_y": null,
            "padding": null,
            "right": null,
            "top": null,
            "visibility": null,
            "width": null
          }
        },
        "bc84508f51dc477582c47c4dc6a9ee9c": {
          "model_module": "@jupyter-widgets/controls",
          "model_name": "ProgressStyleModel",
          "model_module_version": "1.5.0",
          "state": {
            "_model_module": "@jupyter-widgets/controls",
            "_model_module_version": "1.5.0",
            "_model_name": "ProgressStyleModel",
            "_view_count": null,
            "_view_module": "@jupyter-widgets/base",
            "_view_module_version": "1.2.0",
            "_view_name": "StyleView",
            "bar_color": null,
            "description_width": ""
          }
        },
        "6f39806cd0f84edabadd334343a41150": {
          "model_module": "@jupyter-widgets/base",
          "model_name": "LayoutModel",
          "model_module_version": "1.2.0",
          "state": {
            "_model_module": "@jupyter-widgets/base",
            "_model_module_version": "1.2.0",
            "_model_name": "LayoutModel",
            "_view_count": null,
            "_view_module": "@jupyter-widgets/base",
            "_view_module_version": "1.2.0",
            "_view_name": "LayoutView",
            "align_content": null,
            "align_items": null,
            "align_self": null,
            "border": null,
            "bottom": null,
            "display": null,
            "flex": null,
            "flex_flow": null,
            "grid_area": null,
            "grid_auto_columns": null,
            "grid_auto_flow": null,
            "grid_auto_rows": null,
            "grid_column": null,
            "grid_gap": null,
            "grid_row": null,
            "grid_template_areas": null,
            "grid_template_columns": null,
            "grid_template_rows": null,
            "height": null,
            "justify_content": null,
            "justify_items": null,
            "left": null,
            "margin": null,
            "max_height": null,
            "max_width": null,
            "min_height": null,
            "min_width": null,
            "object_fit": null,
            "object_position": null,
            "order": null,
            "overflow": null,
            "overflow_x": null,
            "overflow_y": null,
            "padding": null,
            "right": null,
            "top": null,
            "visibility": null,
            "width": null
          }
        },
        "ab18b4405f1a4f28865a921596471352": {
          "model_module": "@jupyter-widgets/controls",
          "model_name": "DescriptionStyleModel",
          "model_module_version": "1.5.0",
          "state": {
            "_model_module": "@jupyter-widgets/controls",
            "_model_module_version": "1.5.0",
            "_model_name": "DescriptionStyleModel",
            "_view_count": null,
            "_view_module": "@jupyter-widgets/base",
            "_view_module_version": "1.2.0",
            "_view_name": "StyleView",
            "description_width": ""
          }
        },
        "ccb2264010c942259f57cba75a5506e9": {
          "model_module": "@jupyter-widgets/controls",
          "model_name": "HBoxModel",
          "model_module_version": "1.5.0",
          "state": {
            "_dom_classes": [],
            "_model_module": "@jupyter-widgets/controls",
            "_model_module_version": "1.5.0",
            "_model_name": "HBoxModel",
            "_view_count": null,
            "_view_module": "@jupyter-widgets/controls",
            "_view_module_version": "1.5.0",
            "_view_name": "HBoxView",
            "box_style": "",
            "children": [
              "IPY_MODEL_2af3a0e4b17c472d9ae1a872e19256f0",
              "IPY_MODEL_8d9ffc0eb8644e018426426d7738d1d1",
              "IPY_MODEL_8a845715c97a448fbf79ccb56f5c981a"
            ],
            "layout": "IPY_MODEL_99cfa1bdc94049d39bb88b931de3361d"
          }
        },
        "2af3a0e4b17c472d9ae1a872e19256f0": {
          "model_module": "@jupyter-widgets/controls",
          "model_name": "HTMLModel",
          "model_module_version": "1.5.0",
          "state": {
            "_dom_classes": [],
            "_model_module": "@jupyter-widgets/controls",
            "_model_module_version": "1.5.0",
            "_model_name": "HTMLModel",
            "_view_count": null,
            "_view_module": "@jupyter-widgets/controls",
            "_view_module_version": "1.5.0",
            "_view_name": "HTMLView",
            "description": "",
            "description_tooltip": null,
            "layout": "IPY_MODEL_2e8ff2d818db4dddb172f739e609d2c3",
            "placeholder": "​",
            "style": "IPY_MODEL_879135ca7b5f4417875256ec2e838265",
            "value": "100%"
          }
        },
        "8d9ffc0eb8644e018426426d7738d1d1": {
          "model_module": "@jupyter-widgets/controls",
          "model_name": "FloatProgressModel",
          "model_module_version": "1.5.0",
          "state": {
            "_dom_classes": [],
            "_model_module": "@jupyter-widgets/controls",
            "_model_module_version": "1.5.0",
            "_model_name": "FloatProgressModel",
            "_view_count": null,
            "_view_module": "@jupyter-widgets/controls",
            "_view_module_version": "1.5.0",
            "_view_name": "ProgressView",
            "bar_style": "success",
            "description": "",
            "description_tooltip": null,
            "layout": "IPY_MODEL_289efa3d793840dfbff8cc970958a041",
            "max": 4,
            "min": 0,
            "orientation": "horizontal",
            "style": "IPY_MODEL_91569747fc9a4cfd8c1e314079277794",
            "value": 4
          }
        },
        "8a845715c97a448fbf79ccb56f5c981a": {
          "model_module": "@jupyter-widgets/controls",
          "model_name": "HTMLModel",
          "model_module_version": "1.5.0",
          "state": {
            "_dom_classes": [],
            "_model_module": "@jupyter-widgets/controls",
            "_model_module_version": "1.5.0",
            "_model_name": "HTMLModel",
            "_view_count": null,
            "_view_module": "@jupyter-widgets/controls",
            "_view_module_version": "1.5.0",
            "_view_name": "HTMLView",
            "description": "",
            "description_tooltip": null,
            "layout": "IPY_MODEL_bbbddb3bacca479991d1e66905cf42f5",
            "placeholder": "​",
            "style": "IPY_MODEL_cdf4a4587db24dca95478a37dd79bf4a",
            "value": " 4/4 [00:00&lt;00:00,  6.37ba/s]"
          }
        },
        "99cfa1bdc94049d39bb88b931de3361d": {
          "model_module": "@jupyter-widgets/base",
          "model_name": "LayoutModel",
          "model_module_version": "1.2.0",
          "state": {
            "_model_module": "@jupyter-widgets/base",
            "_model_module_version": "1.2.0",
            "_model_name": "LayoutModel",
            "_view_count": null,
            "_view_module": "@jupyter-widgets/base",
            "_view_module_version": "1.2.0",
            "_view_name": "LayoutView",
            "align_content": null,
            "align_items": null,
            "align_self": null,
            "border": null,
            "bottom": null,
            "display": null,
            "flex": null,
            "flex_flow": null,
            "grid_area": null,
            "grid_auto_columns": null,
            "grid_auto_flow": null,
            "grid_auto_rows": null,
            "grid_column": null,
            "grid_gap": null,
            "grid_row": null,
            "grid_template_areas": null,
            "grid_template_columns": null,
            "grid_template_rows": null,
            "height": null,
            "justify_content": null,
            "justify_items": null,
            "left": null,
            "margin": null,
            "max_height": null,
            "max_width": null,
            "min_height": null,
            "min_width": null,
            "object_fit": null,
            "object_position": null,
            "order": null,
            "overflow": null,
            "overflow_x": null,
            "overflow_y": null,
            "padding": null,
            "right": null,
            "top": null,
            "visibility": null,
            "width": null
          }
        },
        "2e8ff2d818db4dddb172f739e609d2c3": {
          "model_module": "@jupyter-widgets/base",
          "model_name": "LayoutModel",
          "model_module_version": "1.2.0",
          "state": {
            "_model_module": "@jupyter-widgets/base",
            "_model_module_version": "1.2.0",
            "_model_name": "LayoutModel",
            "_view_count": null,
            "_view_module": "@jupyter-widgets/base",
            "_view_module_version": "1.2.0",
            "_view_name": "LayoutView",
            "align_content": null,
            "align_items": null,
            "align_self": null,
            "border": null,
            "bottom": null,
            "display": null,
            "flex": null,
            "flex_flow": null,
            "grid_area": null,
            "grid_auto_columns": null,
            "grid_auto_flow": null,
            "grid_auto_rows": null,
            "grid_column": null,
            "grid_gap": null,
            "grid_row": null,
            "grid_template_areas": null,
            "grid_template_columns": null,
            "grid_template_rows": null,
            "height": null,
            "justify_content": null,
            "justify_items": null,
            "left": null,
            "margin": null,
            "max_height": null,
            "max_width": null,
            "min_height": null,
            "min_width": null,
            "object_fit": null,
            "object_position": null,
            "order": null,
            "overflow": null,
            "overflow_x": null,
            "overflow_y": null,
            "padding": null,
            "right": null,
            "top": null,
            "visibility": null,
            "width": null
          }
        },
        "879135ca7b5f4417875256ec2e838265": {
          "model_module": "@jupyter-widgets/controls",
          "model_name": "DescriptionStyleModel",
          "model_module_version": "1.5.0",
          "state": {
            "_model_module": "@jupyter-widgets/controls",
            "_model_module_version": "1.5.0",
            "_model_name": "DescriptionStyleModel",
            "_view_count": null,
            "_view_module": "@jupyter-widgets/base",
            "_view_module_version": "1.2.0",
            "_view_name": "StyleView",
            "description_width": ""
          }
        },
        "289efa3d793840dfbff8cc970958a041": {
          "model_module": "@jupyter-widgets/base",
          "model_name": "LayoutModel",
          "model_module_version": "1.2.0",
          "state": {
            "_model_module": "@jupyter-widgets/base",
            "_model_module_version": "1.2.0",
            "_model_name": "LayoutModel",
            "_view_count": null,
            "_view_module": "@jupyter-widgets/base",
            "_view_module_version": "1.2.0",
            "_view_name": "LayoutView",
            "align_content": null,
            "align_items": null,
            "align_self": null,
            "border": null,
            "bottom": null,
            "display": null,
            "flex": null,
            "flex_flow": null,
            "grid_area": null,
            "grid_auto_columns": null,
            "grid_auto_flow": null,
            "grid_auto_rows": null,
            "grid_column": null,
            "grid_gap": null,
            "grid_row": null,
            "grid_template_areas": null,
            "grid_template_columns": null,
            "grid_template_rows": null,
            "height": null,
            "justify_content": null,
            "justify_items": null,
            "left": null,
            "margin": null,
            "max_height": null,
            "max_width": null,
            "min_height": null,
            "min_width": null,
            "object_fit": null,
            "object_position": null,
            "order": null,
            "overflow": null,
            "overflow_x": null,
            "overflow_y": null,
            "padding": null,
            "right": null,
            "top": null,
            "visibility": null,
            "width": null
          }
        },
        "91569747fc9a4cfd8c1e314079277794": {
          "model_module": "@jupyter-widgets/controls",
          "model_name": "ProgressStyleModel",
          "model_module_version": "1.5.0",
          "state": {
            "_model_module": "@jupyter-widgets/controls",
            "_model_module_version": "1.5.0",
            "_model_name": "ProgressStyleModel",
            "_view_count": null,
            "_view_module": "@jupyter-widgets/base",
            "_view_module_version": "1.2.0",
            "_view_name": "StyleView",
            "bar_color": null,
            "description_width": ""
          }
        },
        "bbbddb3bacca479991d1e66905cf42f5": {
          "model_module": "@jupyter-widgets/base",
          "model_name": "LayoutModel",
          "model_module_version": "1.2.0",
          "state": {
            "_model_module": "@jupyter-widgets/base",
            "_model_module_version": "1.2.0",
            "_model_name": "LayoutModel",
            "_view_count": null,
            "_view_module": "@jupyter-widgets/base",
            "_view_module_version": "1.2.0",
            "_view_name": "LayoutView",
            "align_content": null,
            "align_items": null,
            "align_self": null,
            "border": null,
            "bottom": null,
            "display": null,
            "flex": null,
            "flex_flow": null,
            "grid_area": null,
            "grid_auto_columns": null,
            "grid_auto_flow": null,
            "grid_auto_rows": null,
            "grid_column": null,
            "grid_gap": null,
            "grid_row": null,
            "grid_template_areas": null,
            "grid_template_columns": null,
            "grid_template_rows": null,
            "height": null,
            "justify_content": null,
            "justify_items": null,
            "left": null,
            "margin": null,
            "max_height": null,
            "max_width": null,
            "min_height": null,
            "min_width": null,
            "object_fit": null,
            "object_position": null,
            "order": null,
            "overflow": null,
            "overflow_x": null,
            "overflow_y": null,
            "padding": null,
            "right": null,
            "top": null,
            "visibility": null,
            "width": null
          }
        },
        "cdf4a4587db24dca95478a37dd79bf4a": {
          "model_module": "@jupyter-widgets/controls",
          "model_name": "DescriptionStyleModel",
          "model_module_version": "1.5.0",
          "state": {
            "_model_module": "@jupyter-widgets/controls",
            "_model_module_version": "1.5.0",
            "_model_name": "DescriptionStyleModel",
            "_view_count": null,
            "_view_module": "@jupyter-widgets/base",
            "_view_module_version": "1.2.0",
            "_view_name": "StyleView",
            "description_width": ""
          }
        },
        "123a783d2b75481388b482fd0ccc3e41": {
          "model_module": "@jupyter-widgets/controls",
          "model_name": "HBoxModel",
          "model_module_version": "1.5.0",
          "state": {
            "_dom_classes": [],
            "_model_module": "@jupyter-widgets/controls",
            "_model_module_version": "1.5.0",
            "_model_name": "HBoxModel",
            "_view_count": null,
            "_view_module": "@jupyter-widgets/controls",
            "_view_module_version": "1.5.0",
            "_view_name": "HBoxView",
            "box_style": "",
            "children": [
              "IPY_MODEL_6a1690ad6b4c4ded8f2d905bb80142c7",
              "IPY_MODEL_5f87a4cce8714680b956d358f185ce20",
              "IPY_MODEL_de8b9c1079e449e59108e89aa7d01204"
            ],
            "layout": "IPY_MODEL_354762fd4324407591b7fcd641bf23fd"
          }
        },
        "6a1690ad6b4c4ded8f2d905bb80142c7": {
          "model_module": "@jupyter-widgets/controls",
          "model_name": "HTMLModel",
          "model_module_version": "1.5.0",
          "state": {
            "_dom_classes": [],
            "_model_module": "@jupyter-widgets/controls",
            "_model_module_version": "1.5.0",
            "_model_name": "HTMLModel",
            "_view_count": null,
            "_view_module": "@jupyter-widgets/controls",
            "_view_module_version": "1.5.0",
            "_view_name": "HTMLView",
            "description": "",
            "description_tooltip": null,
            "layout": "IPY_MODEL_90a36469052e4405972356bfb80c8399",
            "placeholder": "​",
            "style": "IPY_MODEL_8b90d9e204314cb3b17528c9f2785493",
            "value": "100%"
          }
        },
        "5f87a4cce8714680b956d358f185ce20": {
          "model_module": "@jupyter-widgets/controls",
          "model_name": "FloatProgressModel",
          "model_module_version": "1.5.0",
          "state": {
            "_dom_classes": [],
            "_model_module": "@jupyter-widgets/controls",
            "_model_module_version": "1.5.0",
            "_model_name": "FloatProgressModel",
            "_view_count": null,
            "_view_module": "@jupyter-widgets/controls",
            "_view_module_version": "1.5.0",
            "_view_name": "ProgressView",
            "bar_style": "success",
            "description": "",
            "description_tooltip": null,
            "layout": "IPY_MODEL_c5dde91b82334507a0adfb44004c6ee5",
            "max": 1,
            "min": 0,
            "orientation": "horizontal",
            "style": "IPY_MODEL_9b939afdf5da4530b7daee159c5a97fc",
            "value": 1
          }
        },
        "de8b9c1079e449e59108e89aa7d01204": {
          "model_module": "@jupyter-widgets/controls",
          "model_name": "HTMLModel",
          "model_module_version": "1.5.0",
          "state": {
            "_dom_classes": [],
            "_model_module": "@jupyter-widgets/controls",
            "_model_module_version": "1.5.0",
            "_model_name": "HTMLModel",
            "_view_count": null,
            "_view_module": "@jupyter-widgets/controls",
            "_view_module_version": "1.5.0",
            "_view_name": "HTMLView",
            "description": "",
            "description_tooltip": null,
            "layout": "IPY_MODEL_c2aa986735c34b13b4e8ee686c659ade",
            "placeholder": "​",
            "style": "IPY_MODEL_e1a69cfdf09842c894d74ec4c357c287",
            "value": " 1/1 [00:00&lt;00:00,  7.01ba/s]"
          }
        },
        "354762fd4324407591b7fcd641bf23fd": {
          "model_module": "@jupyter-widgets/base",
          "model_name": "LayoutModel",
          "model_module_version": "1.2.0",
          "state": {
            "_model_module": "@jupyter-widgets/base",
            "_model_module_version": "1.2.0",
            "_model_name": "LayoutModel",
            "_view_count": null,
            "_view_module": "@jupyter-widgets/base",
            "_view_module_version": "1.2.0",
            "_view_name": "LayoutView",
            "align_content": null,
            "align_items": null,
            "align_self": null,
            "border": null,
            "bottom": null,
            "display": null,
            "flex": null,
            "flex_flow": null,
            "grid_area": null,
            "grid_auto_columns": null,
            "grid_auto_flow": null,
            "grid_auto_rows": null,
            "grid_column": null,
            "grid_gap": null,
            "grid_row": null,
            "grid_template_areas": null,
            "grid_template_columns": null,
            "grid_template_rows": null,
            "height": null,
            "justify_content": null,
            "justify_items": null,
            "left": null,
            "margin": null,
            "max_height": null,
            "max_width": null,
            "min_height": null,
            "min_width": null,
            "object_fit": null,
            "object_position": null,
            "order": null,
            "overflow": null,
            "overflow_x": null,
            "overflow_y": null,
            "padding": null,
            "right": null,
            "top": null,
            "visibility": null,
            "width": null
          }
        },
        "90a36469052e4405972356bfb80c8399": {
          "model_module": "@jupyter-widgets/base",
          "model_name": "LayoutModel",
          "model_module_version": "1.2.0",
          "state": {
            "_model_module": "@jupyter-widgets/base",
            "_model_module_version": "1.2.0",
            "_model_name": "LayoutModel",
            "_view_count": null,
            "_view_module": "@jupyter-widgets/base",
            "_view_module_version": "1.2.0",
            "_view_name": "LayoutView",
            "align_content": null,
            "align_items": null,
            "align_self": null,
            "border": null,
            "bottom": null,
            "display": null,
            "flex": null,
            "flex_flow": null,
            "grid_area": null,
            "grid_auto_columns": null,
            "grid_auto_flow": null,
            "grid_auto_rows": null,
            "grid_column": null,
            "grid_gap": null,
            "grid_row": null,
            "grid_template_areas": null,
            "grid_template_columns": null,
            "grid_template_rows": null,
            "height": null,
            "justify_content": null,
            "justify_items": null,
            "left": null,
            "margin": null,
            "max_height": null,
            "max_width": null,
            "min_height": null,
            "min_width": null,
            "object_fit": null,
            "object_position": null,
            "order": null,
            "overflow": null,
            "overflow_x": null,
            "overflow_y": null,
            "padding": null,
            "right": null,
            "top": null,
            "visibility": null,
            "width": null
          }
        },
        "8b90d9e204314cb3b17528c9f2785493": {
          "model_module": "@jupyter-widgets/controls",
          "model_name": "DescriptionStyleModel",
          "model_module_version": "1.5.0",
          "state": {
            "_model_module": "@jupyter-widgets/controls",
            "_model_module_version": "1.5.0",
            "_model_name": "DescriptionStyleModel",
            "_view_count": null,
            "_view_module": "@jupyter-widgets/base",
            "_view_module_version": "1.2.0",
            "_view_name": "StyleView",
            "description_width": ""
          }
        },
        "c5dde91b82334507a0adfb44004c6ee5": {
          "model_module": "@jupyter-widgets/base",
          "model_name": "LayoutModel",
          "model_module_version": "1.2.0",
          "state": {
            "_model_module": "@jupyter-widgets/base",
            "_model_module_version": "1.2.0",
            "_model_name": "LayoutModel",
            "_view_count": null,
            "_view_module": "@jupyter-widgets/base",
            "_view_module_version": "1.2.0",
            "_view_name": "LayoutView",
            "align_content": null,
            "align_items": null,
            "align_self": null,
            "border": null,
            "bottom": null,
            "display": null,
            "flex": null,
            "flex_flow": null,
            "grid_area": null,
            "grid_auto_columns": null,
            "grid_auto_flow": null,
            "grid_auto_rows": null,
            "grid_column": null,
            "grid_gap": null,
            "grid_row": null,
            "grid_template_areas": null,
            "grid_template_columns": null,
            "grid_template_rows": null,
            "height": null,
            "justify_content": null,
            "justify_items": null,
            "left": null,
            "margin": null,
            "max_height": null,
            "max_width": null,
            "min_height": null,
            "min_width": null,
            "object_fit": null,
            "object_position": null,
            "order": null,
            "overflow": null,
            "overflow_x": null,
            "overflow_y": null,
            "padding": null,
            "right": null,
            "top": null,
            "visibility": null,
            "width": null
          }
        },
        "9b939afdf5da4530b7daee159c5a97fc": {
          "model_module": "@jupyter-widgets/controls",
          "model_name": "ProgressStyleModel",
          "model_module_version": "1.5.0",
          "state": {
            "_model_module": "@jupyter-widgets/controls",
            "_model_module_version": "1.5.0",
            "_model_name": "ProgressStyleModel",
            "_view_count": null,
            "_view_module": "@jupyter-widgets/base",
            "_view_module_version": "1.2.0",
            "_view_name": "StyleView",
            "bar_color": null,
            "description_width": ""
          }
        },
        "c2aa986735c34b13b4e8ee686c659ade": {
          "model_module": "@jupyter-widgets/base",
          "model_name": "LayoutModel",
          "model_module_version": "1.2.0",
          "state": {
            "_model_module": "@jupyter-widgets/base",
            "_model_module_version": "1.2.0",
            "_model_name": "LayoutModel",
            "_view_count": null,
            "_view_module": "@jupyter-widgets/base",
            "_view_module_version": "1.2.0",
            "_view_name": "LayoutView",
            "align_content": null,
            "align_items": null,
            "align_self": null,
            "border": null,
            "bottom": null,
            "display": null,
            "flex": null,
            "flex_flow": null,
            "grid_area": null,
            "grid_auto_columns": null,
            "grid_auto_flow": null,
            "grid_auto_rows": null,
            "grid_column": null,
            "grid_gap": null,
            "grid_row": null,
            "grid_template_areas": null,
            "grid_template_columns": null,
            "grid_template_rows": null,
            "height": null,
            "justify_content": null,
            "justify_items": null,
            "left": null,
            "margin": null,
            "max_height": null,
            "max_width": null,
            "min_height": null,
            "min_width": null,
            "object_fit": null,
            "object_position": null,
            "order": null,
            "overflow": null,
            "overflow_x": null,
            "overflow_y": null,
            "padding": null,
            "right": null,
            "top": null,
            "visibility": null,
            "width": null
          }
        },
        "e1a69cfdf09842c894d74ec4c357c287": {
          "model_module": "@jupyter-widgets/controls",
          "model_name": "DescriptionStyleModel",
          "model_module_version": "1.5.0",
          "state": {
            "_model_module": "@jupyter-widgets/controls",
            "_model_module_version": "1.5.0",
            "_model_name": "DescriptionStyleModel",
            "_view_count": null,
            "_view_module": "@jupyter-widgets/base",
            "_view_module_version": "1.2.0",
            "_view_name": "StyleView",
            "description_width": ""
          }
        }
      }
    },
    "colab": {
      "provenance": []
    },
    "accelerator": "GPU",
    "gpuClass": "standard"
  },
  "nbformat": 4,
  "nbformat_minor": 5
}