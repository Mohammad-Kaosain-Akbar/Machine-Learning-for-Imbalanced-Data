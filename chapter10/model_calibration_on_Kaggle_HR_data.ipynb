{
  "cells": [
    {
      "cell_type": "markdown",
      "metadata": {
        "id": "view-in-github",
        "colab_type": "text"
      },
      "source": [
        "<a href=\"https://colab.research.google.com/github/kumar-abhishek/imbalanced-machine-learning-book/blob/main/chapter-10/model_calibration_on_Kaggle_HR_data.ipynb\" target=\"_parent\"><img src=\"https://colab.research.google.com/assets/colab-badge.svg\" alt=\"Open In Colab\"/></a>"
      ]
    },
    {
      "cell_type": "markdown",
      "source": [
        "### [Brief about Data](https://www.kaggle.com/datasets/jacksonchou/hr-data-for-analytics#Breif-about-Data-:)\n",
        "\n",
        "Data is about Human resources in a specific company each record represents an employee\n",
        "\n",
        "#### [Variables description](https://www.kaggle.com/code/ahmedhas93/hr-data-cleaning-outliers-analysis-eda-lr-rf/notebook#Variables-description-:)\n",
        "\n",
        "Dependent variable\n",
        "\n",
        "-   Left : 0 if employee did not leave , 1 if left company\n",
        "\n",
        "Independent variables\n",
        "\n",
        "-   satisfaction_level : means how much employee satisfied (0 less satisfied , 1 most satisfied)\n",
        "-   last_evaluation : means employees' evaluation for last month (0 bad , 1 Excellent)\n",
        "-   number_project : number of projects the employee worked on\n",
        "-   average_montly_hours : average months employee spends at work per month\n",
        "-   time_spend_company : years the employee spent in a company\n",
        "-   Work_accident : 0 if he did not have an accident , 1 if had at least one\n",
        "-   promotion_last_5years : 0 if he did not have any promotion in last 5 years , 1 if had at least one\n",
        "-   sales : department in which employee works\n"
      ],
      "metadata": {
        "id": "w0eeof9MxRrO"
      },
      "id": "w0eeof9MxRrO"
    },
    {
      "cell_type": "markdown",
      "source": [
        "# Imports"
      ],
      "metadata": {
        "id": "8vo_9t0VypiC"
      },
      "id": "8vo_9t0VypiC"
    },
    {
      "cell_type": "code",
      "source": [
        "import pandas as pd\n",
        "import numpy as np\n",
        "import matplotlib.pyplot as plt\n",
        "from sklearn.model_selection import train_test_split\n",
        "from sklearn.ensemble import RandomForestClassifier\n",
        "from sklearn.calibration import CalibratedClassifierCV, calibration_curve\n",
        "from sklearn.preprocessing import LabelEncoder\n",
        "from sklearn.metrics import brier_score_loss\n"
      ],
      "metadata": {
        "id": "5tMgySj_yr1b"
      },
      "id": "5tMgySj_yr1b",
      "execution_count": 4,
      "outputs": []
    },
    {
      "cell_type": "markdown",
      "source": [
        "# EDA"
      ],
      "metadata": {
        "id": "bNilJV9hyuiO"
      },
      "id": "bNilJV9hyuiO"
    },
    {
      "cell_type": "code",
      "source": [
        "# Load the dataset\n",
        "df = pd.read_csv('HR_comma_sep.csv')"
      ],
      "metadata": {
        "id": "6FuRIIe8yv8Q"
      },
      "id": "6FuRIIe8yv8Q",
      "execution_count": 5,
      "outputs": []
    },
    {
      "cell_type": "code",
      "source": [
        "df"
      ],
      "metadata": {
        "colab": {
          "base_uri": "https://localhost:8080/",
          "height": 424
        },
        "id": "-o_vAsX1tsZQ",
        "outputId": "7ff7cf44-bbcc-4d2f-f844-0bfa25b1a6c8"
      },
      "id": "-o_vAsX1tsZQ",
      "execution_count": 6,
      "outputs": [
        {
          "output_type": "execute_result",
          "data": {
            "text/plain": [
              "       satisfaction_level  last_evaluation  number_project  \\\n",
              "0                    0.38             0.53               2   \n",
              "1                    0.80             0.86               5   \n",
              "2                    0.11             0.88               7   \n",
              "3                    0.72             0.87               5   \n",
              "4                    0.37             0.52               2   \n",
              "...                   ...              ...             ...   \n",
              "14994                0.40             0.57               2   \n",
              "14995                0.37             0.48               2   \n",
              "14996                0.37             0.53               2   \n",
              "14997                0.11             0.96               6   \n",
              "14998                0.37             0.52               2   \n",
              "\n",
              "       average_montly_hours  time_spend_company  Work_accident  left  \\\n",
              "0                       157                   3              0     1   \n",
              "1                       262                   6              0     1   \n",
              "2                       272                   4              0     1   \n",
              "3                       223                   5              0     1   \n",
              "4                       159                   3              0     1   \n",
              "...                     ...                 ...            ...   ...   \n",
              "14994                   151                   3              0     1   \n",
              "14995                   160                   3              0     1   \n",
              "14996                   143                   3              0     1   \n",
              "14997                   280                   4              0     1   \n",
              "14998                   158                   3              0     1   \n",
              "\n",
              "       promotion_last_5years    sales  salary  \n",
              "0                          0    sales     low  \n",
              "1                          0    sales  medium  \n",
              "2                          0    sales  medium  \n",
              "3                          0    sales     low  \n",
              "4                          0    sales     low  \n",
              "...                      ...      ...     ...  \n",
              "14994                      0  support     low  \n",
              "14995                      0  support     low  \n",
              "14996                      0  support     low  \n",
              "14997                      0  support     low  \n",
              "14998                      0  support     low  \n",
              "\n",
              "[14999 rows x 10 columns]"
            ],
            "text/html": [
              "\n",
              "\n",
              "  <div id=\"df-99a79552-8ef4-40a7-bc29-e2ea23c48a8a\">\n",
              "    <div class=\"colab-df-container\">\n",
              "      <div>\n",
              "<style scoped>\n",
              "    .dataframe tbody tr th:only-of-type {\n",
              "        vertical-align: middle;\n",
              "    }\n",
              "\n",
              "    .dataframe tbody tr th {\n",
              "        vertical-align: top;\n",
              "    }\n",
              "\n",
              "    .dataframe thead th {\n",
              "        text-align: right;\n",
              "    }\n",
              "</style>\n",
              "<table border=\"1\" class=\"dataframe\">\n",
              "  <thead>\n",
              "    <tr style=\"text-align: right;\">\n",
              "      <th></th>\n",
              "      <th>satisfaction_level</th>\n",
              "      <th>last_evaluation</th>\n",
              "      <th>number_project</th>\n",
              "      <th>average_montly_hours</th>\n",
              "      <th>time_spend_company</th>\n",
              "      <th>Work_accident</th>\n",
              "      <th>left</th>\n",
              "      <th>promotion_last_5years</th>\n",
              "      <th>sales</th>\n",
              "      <th>salary</th>\n",
              "    </tr>\n",
              "  </thead>\n",
              "  <tbody>\n",
              "    <tr>\n",
              "      <th>0</th>\n",
              "      <td>0.38</td>\n",
              "      <td>0.53</td>\n",
              "      <td>2</td>\n",
              "      <td>157</td>\n",
              "      <td>3</td>\n",
              "      <td>0</td>\n",
              "      <td>1</td>\n",
              "      <td>0</td>\n",
              "      <td>sales</td>\n",
              "      <td>low</td>\n",
              "    </tr>\n",
              "    <tr>\n",
              "      <th>1</th>\n",
              "      <td>0.80</td>\n",
              "      <td>0.86</td>\n",
              "      <td>5</td>\n",
              "      <td>262</td>\n",
              "      <td>6</td>\n",
              "      <td>0</td>\n",
              "      <td>1</td>\n",
              "      <td>0</td>\n",
              "      <td>sales</td>\n",
              "      <td>medium</td>\n",
              "    </tr>\n",
              "    <tr>\n",
              "      <th>2</th>\n",
              "      <td>0.11</td>\n",
              "      <td>0.88</td>\n",
              "      <td>7</td>\n",
              "      <td>272</td>\n",
              "      <td>4</td>\n",
              "      <td>0</td>\n",
              "      <td>1</td>\n",
              "      <td>0</td>\n",
              "      <td>sales</td>\n",
              "      <td>medium</td>\n",
              "    </tr>\n",
              "    <tr>\n",
              "      <th>3</th>\n",
              "      <td>0.72</td>\n",
              "      <td>0.87</td>\n",
              "      <td>5</td>\n",
              "      <td>223</td>\n",
              "      <td>5</td>\n",
              "      <td>0</td>\n",
              "      <td>1</td>\n",
              "      <td>0</td>\n",
              "      <td>sales</td>\n",
              "      <td>low</td>\n",
              "    </tr>\n",
              "    <tr>\n",
              "      <th>4</th>\n",
              "      <td>0.37</td>\n",
              "      <td>0.52</td>\n",
              "      <td>2</td>\n",
              "      <td>159</td>\n",
              "      <td>3</td>\n",
              "      <td>0</td>\n",
              "      <td>1</td>\n",
              "      <td>0</td>\n",
              "      <td>sales</td>\n",
              "      <td>low</td>\n",
              "    </tr>\n",
              "    <tr>\n",
              "      <th>...</th>\n",
              "      <td>...</td>\n",
              "      <td>...</td>\n",
              "      <td>...</td>\n",
              "      <td>...</td>\n",
              "      <td>...</td>\n",
              "      <td>...</td>\n",
              "      <td>...</td>\n",
              "      <td>...</td>\n",
              "      <td>...</td>\n",
              "      <td>...</td>\n",
              "    </tr>\n",
              "    <tr>\n",
              "      <th>14994</th>\n",
              "      <td>0.40</td>\n",
              "      <td>0.57</td>\n",
              "      <td>2</td>\n",
              "      <td>151</td>\n",
              "      <td>3</td>\n",
              "      <td>0</td>\n",
              "      <td>1</td>\n",
              "      <td>0</td>\n",
              "      <td>support</td>\n",
              "      <td>low</td>\n",
              "    </tr>\n",
              "    <tr>\n",
              "      <th>14995</th>\n",
              "      <td>0.37</td>\n",
              "      <td>0.48</td>\n",
              "      <td>2</td>\n",
              "      <td>160</td>\n",
              "      <td>3</td>\n",
              "      <td>0</td>\n",
              "      <td>1</td>\n",
              "      <td>0</td>\n",
              "      <td>support</td>\n",
              "      <td>low</td>\n",
              "    </tr>\n",
              "    <tr>\n",
              "      <th>14996</th>\n",
              "      <td>0.37</td>\n",
              "      <td>0.53</td>\n",
              "      <td>2</td>\n",
              "      <td>143</td>\n",
              "      <td>3</td>\n",
              "      <td>0</td>\n",
              "      <td>1</td>\n",
              "      <td>0</td>\n",
              "      <td>support</td>\n",
              "      <td>low</td>\n",
              "    </tr>\n",
              "    <tr>\n",
              "      <th>14997</th>\n",
              "      <td>0.11</td>\n",
              "      <td>0.96</td>\n",
              "      <td>6</td>\n",
              "      <td>280</td>\n",
              "      <td>4</td>\n",
              "      <td>0</td>\n",
              "      <td>1</td>\n",
              "      <td>0</td>\n",
              "      <td>support</td>\n",
              "      <td>low</td>\n",
              "    </tr>\n",
              "    <tr>\n",
              "      <th>14998</th>\n",
              "      <td>0.37</td>\n",
              "      <td>0.52</td>\n",
              "      <td>2</td>\n",
              "      <td>158</td>\n",
              "      <td>3</td>\n",
              "      <td>0</td>\n",
              "      <td>1</td>\n",
              "      <td>0</td>\n",
              "      <td>support</td>\n",
              "      <td>low</td>\n",
              "    </tr>\n",
              "  </tbody>\n",
              "</table>\n",
              "<p>14999 rows × 10 columns</p>\n",
              "</div>\n",
              "      <button class=\"colab-df-convert\" onclick=\"convertToInteractive('df-99a79552-8ef4-40a7-bc29-e2ea23c48a8a')\"\n",
              "              title=\"Convert this dataframe to an interactive table.\"\n",
              "              style=\"display:none;\">\n",
              "\n",
              "  <svg xmlns=\"http://www.w3.org/2000/svg\" height=\"24px\"viewBox=\"0 0 24 24\"\n",
              "       width=\"24px\">\n",
              "    <path d=\"M0 0h24v24H0V0z\" fill=\"none\"/>\n",
              "    <path d=\"M18.56 5.44l.94 2.06.94-2.06 2.06-.94-2.06-.94-.94-2.06-.94 2.06-2.06.94zm-11 1L8.5 8.5l.94-2.06 2.06-.94-2.06-.94L8.5 2.5l-.94 2.06-2.06.94zm10 10l.94 2.06.94-2.06 2.06-.94-2.06-.94-.94-2.06-.94 2.06-2.06.94z\"/><path d=\"M17.41 7.96l-1.37-1.37c-.4-.4-.92-.59-1.43-.59-.52 0-1.04.2-1.43.59L10.3 9.45l-7.72 7.72c-.78.78-.78 2.05 0 2.83L4 21.41c.39.39.9.59 1.41.59.51 0 1.02-.2 1.41-.59l7.78-7.78 2.81-2.81c.8-.78.8-2.07 0-2.86zM5.41 20L4 18.59l7.72-7.72 1.47 1.35L5.41 20z\"/>\n",
              "  </svg>\n",
              "      </button>\n",
              "\n",
              "\n",
              "\n",
              "    <div id=\"df-22e1641f-b28d-40fe-9e6c-2c5674f8c41f\">\n",
              "      <button class=\"colab-df-quickchart\" onclick=\"quickchart('df-22e1641f-b28d-40fe-9e6c-2c5674f8c41f')\"\n",
              "              title=\"Suggest charts.\"\n",
              "              style=\"display:none;\">\n",
              "\n",
              "<svg xmlns=\"http://www.w3.org/2000/svg\" height=\"24px\"viewBox=\"0 0 24 24\"\n",
              "     width=\"24px\">\n",
              "    <g>\n",
              "        <path d=\"M19 3H5c-1.1 0-2 .9-2 2v14c0 1.1.9 2 2 2h14c1.1 0 2-.9 2-2V5c0-1.1-.9-2-2-2zM9 17H7v-7h2v7zm4 0h-2V7h2v10zm4 0h-2v-4h2v4z\"/>\n",
              "    </g>\n",
              "</svg>\n",
              "      </button>\n",
              "    </div>\n",
              "\n",
              "<style>\n",
              "  .colab-df-quickchart {\n",
              "    background-color: #E8F0FE;\n",
              "    border: none;\n",
              "    border-radius: 50%;\n",
              "    cursor: pointer;\n",
              "    display: none;\n",
              "    fill: #1967D2;\n",
              "    height: 32px;\n",
              "    padding: 0 0 0 0;\n",
              "    width: 32px;\n",
              "  }\n",
              "\n",
              "  .colab-df-quickchart:hover {\n",
              "    background-color: #E2EBFA;\n",
              "    box-shadow: 0px 1px 2px rgba(60, 64, 67, 0.3), 0px 1px 3px 1px rgba(60, 64, 67, 0.15);\n",
              "    fill: #174EA6;\n",
              "  }\n",
              "\n",
              "  [theme=dark] .colab-df-quickchart {\n",
              "    background-color: #3B4455;\n",
              "    fill: #D2E3FC;\n",
              "  }\n",
              "\n",
              "  [theme=dark] .colab-df-quickchart:hover {\n",
              "    background-color: #434B5C;\n",
              "    box-shadow: 0px 1px 3px 1px rgba(0, 0, 0, 0.15);\n",
              "    filter: drop-shadow(0px 1px 2px rgba(0, 0, 0, 0.3));\n",
              "    fill: #FFFFFF;\n",
              "  }\n",
              "</style>\n",
              "\n",
              "    <script>\n",
              "      async function quickchart(key) {\n",
              "        const containerElement = document.querySelector('#' + key);\n",
              "        const charts = await google.colab.kernel.invokeFunction(\n",
              "            'suggestCharts', [key], {});\n",
              "      }\n",
              "    </script>\n",
              "\n",
              "      <script>\n",
              "\n",
              "function displayQuickchartButton(domScope) {\n",
              "  let quickchartButtonEl =\n",
              "    domScope.querySelector('#df-22e1641f-b28d-40fe-9e6c-2c5674f8c41f button.colab-df-quickchart');\n",
              "  quickchartButtonEl.style.display =\n",
              "    google.colab.kernel.accessAllowed ? 'block' : 'none';\n",
              "}\n",
              "\n",
              "        displayQuickchartButton(document);\n",
              "      </script>\n",
              "      <style>\n",
              "    .colab-df-container {\n",
              "      display:flex;\n",
              "      flex-wrap:wrap;\n",
              "      gap: 12px;\n",
              "    }\n",
              "\n",
              "    .colab-df-convert {\n",
              "      background-color: #E8F0FE;\n",
              "      border: none;\n",
              "      border-radius: 50%;\n",
              "      cursor: pointer;\n",
              "      display: none;\n",
              "      fill: #1967D2;\n",
              "      height: 32px;\n",
              "      padding: 0 0 0 0;\n",
              "      width: 32px;\n",
              "    }\n",
              "\n",
              "    .colab-df-convert:hover {\n",
              "      background-color: #E2EBFA;\n",
              "      box-shadow: 0px 1px 2px rgba(60, 64, 67, 0.3), 0px 1px 3px 1px rgba(60, 64, 67, 0.15);\n",
              "      fill: #174EA6;\n",
              "    }\n",
              "\n",
              "    [theme=dark] .colab-df-convert {\n",
              "      background-color: #3B4455;\n",
              "      fill: #D2E3FC;\n",
              "    }\n",
              "\n",
              "    [theme=dark] .colab-df-convert:hover {\n",
              "      background-color: #434B5C;\n",
              "      box-shadow: 0px 1px 3px 1px rgba(0, 0, 0, 0.15);\n",
              "      filter: drop-shadow(0px 1px 2px rgba(0, 0, 0, 0.3));\n",
              "      fill: #FFFFFF;\n",
              "    }\n",
              "  </style>\n",
              "\n",
              "      <script>\n",
              "        const buttonEl =\n",
              "          document.querySelector('#df-99a79552-8ef4-40a7-bc29-e2ea23c48a8a button.colab-df-convert');\n",
              "        buttonEl.style.display =\n",
              "          google.colab.kernel.accessAllowed ? 'block' : 'none';\n",
              "\n",
              "        async function convertToInteractive(key) {\n",
              "          const element = document.querySelector('#df-99a79552-8ef4-40a7-bc29-e2ea23c48a8a');\n",
              "          const dataTable =\n",
              "            await google.colab.kernel.invokeFunction('convertToInteractive',\n",
              "                                                     [key], {});\n",
              "          if (!dataTable) return;\n",
              "\n",
              "          const docLinkHtml = 'Like what you see? Visit the ' +\n",
              "            '<a target=\"_blank\" href=https://colab.research.google.com/notebooks/data_table.ipynb>data table notebook</a>'\n",
              "            + ' to learn more about interactive tables.';\n",
              "          element.innerHTML = '';\n",
              "          dataTable['output_type'] = 'display_data';\n",
              "          await google.colab.output.renderOutput(dataTable, element);\n",
              "          const docLink = document.createElement('div');\n",
              "          docLink.innerHTML = docLinkHtml;\n",
              "          element.appendChild(docLink);\n",
              "        }\n",
              "      </script>\n",
              "    </div>\n",
              "  </div>\n"
            ]
          },
          "metadata": {},
          "execution_count": 6
        }
      ]
    },
    {
      "cell_type": "markdown",
      "source": [
        "# Check Data imbalance"
      ],
      "metadata": {
        "id": "iQVVb3dlzcf8"
      },
      "id": "iQVVb3dlzcf8"
    },
    {
      "cell_type": "code",
      "source": [
        "import seaborn as sns\n",
        "\n",
        "print(df['left'].value_counts())\n",
        "df['left'].value_counts().plot(kind='bar')\n"
      ],
      "metadata": {
        "colab": {
          "base_uri": "https://localhost:8080/",
          "height": 494
        },
        "id": "BiYYsa9gzb2r",
        "outputId": "b0a5e87e-61d1-46d4-b5a9-0164b96a23f3"
      },
      "id": "BiYYsa9gzb2r",
      "execution_count": 7,
      "outputs": [
        {
          "output_type": "stream",
          "name": "stdout",
          "text": [
            "0    11428\n",
            "1     3571\n",
            "Name: left, dtype: int64\n"
          ]
        },
        {
          "output_type": "execute_result",
          "data": {
            "text/plain": [
              "<Axes: >"
            ]
          },
          "metadata": {},
          "execution_count": 7
        },
        {
          "output_type": "display_data",
          "data": {
            "text/plain": [
              "<Figure size 640x480 with 1 Axes>"
            ],
            "image/png": "[encoded data removed]"
          },
          "metadata": {}
        }
      ]
    },
    {
      "cell_type": "markdown",
      "source": [
        "# Convert categorical columns to label encoded"
      ],
      "metadata": {
        "id": "8SFicXIV02AN"
      },
      "id": "8SFicXIV02AN"
    },
    {
      "cell_type": "code",
      "source": [
        "le = LabelEncoder()\n",
        "for column in df.columns:\n",
        "    if df[column].dtype == object:\n",
        "        df[column] = le.fit_transform(df[column])"
      ],
      "metadata": {
        "id": "ZtdOP3wT03Xq"
      },
      "id": "ZtdOP3wT03Xq",
      "execution_count": 8,
      "outputs": []
    },
    {
      "cell_type": "markdown",
      "source": [
        "\n",
        "\n",
        "# Split the data into training, testing, and validation sets\n",
        "\n"
      ],
      "metadata": {
        "id": "AsxcAgY_06fE"
      },
      "id": "AsxcAgY_06fE"
    },
    {
      "cell_type": "code",
      "source": [
        "X = df.drop('left', axis=1)\n",
        "y = df['left']\n",
        "X_train, X_temp, y_train, y_temp = train_test_split(X, y, test_size=0.33, random_state=42)\n",
        "X_val, X_test, y_val, y_test = train_test_split(X_temp, y_temp, test_size=0.5, random_state=42)"
      ],
      "metadata": {
        "id": "Ss_VuUnQ079g"
      },
      "id": "Ss_VuUnQ079g",
      "execution_count": 9,
      "outputs": []
    },
    {
      "cell_type": "markdown",
      "source": [
        "# Train a random forest model\n"
      ],
      "metadata": {
        "id": "y_8A4J-v0_kK"
      },
      "id": "y_8A4J-v0_kK"
    },
    {
      "cell_type": "code",
      "source": [
        "model = RandomForestClassifier(n_estimators=100, random_state=42)\n",
        "model.fit(X_train, y_train)"
      ],
      "metadata": {
        "colab": {
          "base_uri": "https://localhost:8080/",
          "height": 75
        },
        "id": "4B2lQNbK1Bek",
        "outputId": "350fde6d-e1b9-495a-85bd-57ce7716d85d"
      },
      "id": "4B2lQNbK1Bek",
      "execution_count": 10,
      "outputs": [
        {
          "output_type": "execute_result",
          "data": {
            "text/plain": [
              "RandomForestClassifier(random_state=42)"
            ],
            "text/html": [
              "<style>#sk-container-id-1 {color: black;background-color: white;}#sk-container-id-1 pre{padding: 0;}#sk-container-id-1 div.sk-toggleable {background-color: white;}#sk-container-id-1 label.sk-toggleable__label {cursor: pointer;display: block;width: 100%;margin-bottom: 0;padding: 0.3em;box-sizing: border-box;text-align: center;}#sk-container-id-1 label.sk-toggleable__label-arrow:before {content: \"▸\";float: left;margin-right: 0.25em;color: #696969;}#sk-container-id-1 label.sk-toggleable__label-arrow:hover:before {color: black;}#sk-container-id-1 div.sk-estimator:hover label.sk-toggleable__label-arrow:before {color: black;}#sk-container-id-1 div.sk-toggleable__content {max-height: 0;max-width: 0;overflow: hidden;text-align: left;background-color: #f0f8ff;}#sk-container-id-1 div.sk-toggleable__content pre {margin: 0.2em;color: black;border-radius: 0.25em;background-color: #f0f8ff;}#sk-container-id-1 input.sk-toggleable__control:checked~div.sk-toggleable__content {max-height: 200px;max-width: 100%;overflow: auto;}#sk-container-id-1 input.sk-toggleable__control:checked~label.sk-toggleable__label-arrow:before {content: \"▾\";}#sk-container-id-1 div.sk-estimator input.sk-toggleable__control:checked~label.sk-toggleable__label {background-color: #d4ebff;}#sk-container-id-1 div.sk-label input.sk-toggleable__control:checked~label.sk-toggleable__label {background-color: #d4ebff;}#sk-container-id-1 input.sk-hidden--visually {border: 0;clip: rect(1px 1px 1px 1px);clip: rect(1px, 1px, 1px, 1px);height: 1px;margin: -1px;overflow: hidden;padding: 0;position: absolute;width: 1px;}#sk-container-id-1 div.sk-estimator {font-family: monospace;background-color: #f0f8ff;border: 1px dotted black;border-radius: 0.25em;box-sizing: border-box;margin-bottom: 0.5em;}#sk-container-id-1 div.sk-estimator:hover {background-color: #d4ebff;}#sk-container-id-1 div.sk-parallel-item::after {content: \"\";width: 100%;border-bottom: 1px solid gray;flex-grow: 1;}#sk-container-id-1 div.sk-label:hover label.sk-toggleable__label {background-color: #d4ebff;}#sk-container-id-1 div.sk-serial::before {content: \"\";position: absolute;border-left: 1px solid gray;box-sizing: border-box;top: 0;bottom: 0;left: 50%;z-index: 0;}#sk-container-id-1 div.sk-serial {display: flex;flex-direction: column;align-items: center;background-color: white;padding-right: 0.2em;padding-left: 0.2em;position: relative;}#sk-container-id-1 div.sk-item {position: relative;z-index: 1;}#sk-container-id-1 div.sk-parallel {display: flex;align-items: stretch;justify-content: center;background-color: white;position: relative;}#sk-container-id-1 div.sk-item::before, #sk-container-id-1 div.sk-parallel-item::before {content: \"\";position: absolute;border-left: 1px solid gray;box-sizing: border-box;top: 0;bottom: 0;left: 50%;z-index: -1;}#sk-container-id-1 div.sk-parallel-item {display: flex;flex-direction: column;z-index: 1;position: relative;background-color: white;}#sk-container-id-1 div.sk-parallel-item:first-child::after {align-self: flex-end;width: 50%;}#sk-container-id-1 div.sk-parallel-item:last-child::after {align-self: flex-start;width: 50%;}#sk-container-id-1 div.sk-parallel-item:only-child::after {width: 0;}#sk-container-id-1 div.sk-dashed-wrapped {border: 1px dashed gray;margin: 0 0.4em 0.5em 0.4em;box-sizing: border-box;padding-bottom: 0.4em;background-color: white;}#sk-container-id-1 div.sk-label label {font-family: monospace;font-weight: bold;display: inline-block;line-height: 1.2em;}#sk-container-id-1 div.sk-label-container {text-align: center;}#sk-container-id-1 div.sk-container {/* jupyter's `normalize.less` sets `[hidden] { display: none; }` but bootstrap.min.css set `[hidden] { display: none !important; }` so we also need the `!important` here to be able to override the default hidden behavior on the sphinx rendered scikit-learn.org. See: https://github.com/scikit-learn/scikit-learn/issues/21755 */display: inline-block !important;position: relative;}#sk-container-id-1 div.sk-text-repr-fallback {display: none;}</style><div id=\"sk-container-id-1\" class=\"sk-top-container\"><div class=\"sk-text-repr-fallback\"><pre>RandomForestClassifier(random_state=42)</pre><b>In a Jupyter environment, please rerun this cell to show the HTML representation or trust the notebook. <br />On GitHub, the HTML representation is unable to render, please try loading this page with nbviewer.org.</b></div><div class=\"sk-container\" hidden><div class=\"sk-item\"><div class=\"sk-estimator sk-toggleable\"><input class=\"sk-toggleable__control sk-hidden--visually\" id=\"sk-estimator-id-1\" type=\"checkbox\" checked><label for=\"sk-estimator-id-1\" class=\"sk-toggleable__label sk-toggleable__label-arrow\">RandomForestClassifier</label><div class=\"sk-toggleable__content\"><pre>RandomForestClassifier(random_state=42)</pre></div></div></div></div></div>"
            ]
          },
          "metadata": {},
          "execution_count": 10
        }
      ]
    },
    {
      "cell_type": "markdown",
      "source": [
        "# Plot calibration curve for raw model"
      ],
      "metadata": {
        "id": "_9-d8Nnm3nqs"
      },
      "id": "_9-d8Nnm3nqs"
    },
    {
      "cell_type": "code",
      "source": [
        "# Get the model probabilities on the test set (uncalibrated model)\n",
        "probs_uncalibrated = model.predict_proba(X_test)[:, 1]\n",
        "\n",
        "# Calculate Brier score for the uncalibrated model\n",
        "brier_uncalibrated = brier_score_loss(y_test, probs_uncalibrated)\n",
        "print(f\"Brier Score for Uncalibrated Model: {round(brier_uncalibrated, 4)}\")\n",
        "\n",
        "# Compute the calibration curve for the uncalibrated model\n",
        "fraction_of_positives_uncalibrated, mean_predicted_value_uncalibrated = calibration_curve(y_test, probs_uncalibrated, n_bins=10)\n"
      ],
      "metadata": {
        "colab": {
          "base_uri": "https://localhost:8080/"
        },
        "id": "bcTGas4n3tAP",
        "outputId": "2e9f8b68-e44e-40d5-84a4-834a7121aa19"
      },
      "id": "bcTGas4n3tAP",
      "execution_count": 27,
      "outputs": [
        {
          "output_type": "stream",
          "name": "stdout",
          "text": [
            "Brier Score for Uncalibrated Model: 0.0123\n"
          ]
        }
      ]
    },
    {
      "cell_type": "code",
      "source": [
        "plt.figure(figsize=(6, 4))\n",
        "plt.plot([0, 1], [0, 1], \"k:\", label=\"Perfectly calibrated\")\n",
        "plt.plot(mean_predicted_value_uncalibrated, fraction_of_positives_uncalibrated, label=\"Uncalibrated\")\n",
        "plt.xlabel('Mean predicted value')\n",
        "plt.ylabel('Fraction of positives')\n",
        "plt.title('Calibration curve (Test set)')\n",
        "plt.legend()\n",
        "plt.show()\n"
      ],
      "metadata": {
        "colab": {
          "base_uri": "https://localhost:8080/",
          "height": 410
        },
        "id": "39BRJ11CEJL9",
        "outputId": "38ece353-bfb8-4341-d963-112a3651dbc7"
      },
      "id": "39BRJ11CEJL9",
      "execution_count": 17,
      "outputs": [
        {
          "output_type": "display_data",
          "data": {
            "text/plain": [
              "<Figure size 600x400 with 1 Axes>"
            ],
            "image/png": "[encoded data removed]"
          },
          "metadata": {}
        }
      ]
    },
    {
      "cell_type": "markdown",
      "source": [
        "# Calibration using Platt's scaling"
      ],
      "metadata": {
        "id": "roE3jrk23yKJ"
      },
      "id": "roE3jrk23yKJ"
    },
    {
      "cell_type": "code",
      "source": [
        "# Calibrate the model on the validation data using Platt's scaling\n",
        "platt_scaling = CalibratedClassifierCV(model, method='sigmoid', cv='prefit')\n",
        "platt_scaling.fit(X_val, y_val)\n",
        "\n",
        "# Get the model probabilities on the test set (calibrated model - Platt's scaling)\n",
        "probs_ps = platt_scaling.predict_proba(X_test)[:, 1]\n",
        "\n",
        "# Calculate Brier score for the Platt's scaling calibrated model\n",
        "brier_platt = brier_score_loss(y_test, probs_ps)\n",
        "print(f\"Brier Score for Platt's Scaling Calibrated Model: {round(brier_platt, 4)}\")\n",
        "\n",
        "# Compute the calibration curve for Platt's scaling\n",
        "fraction_of_positives_ps, mean_predicted_value_ps = calibration_curve(y_test, probs_ps, n_bins=10)\n"
      ],
      "metadata": {
        "colab": {
          "base_uri": "https://localhost:8080/"
        },
        "id": "1tO7W5cK33R2",
        "outputId": "80deedf7-d82e-4ffe-a065-9a54eaa7ac1e"
      },
      "id": "1tO7W5cK33R2",
      "execution_count": 28,
      "outputs": [
        {
          "output_type": "stream",
          "name": "stdout",
          "text": [
            "Brier Score for Platt's Scaling Calibrated Model: 0.0106\n"
          ]
        }
      ]
    },
    {
      "cell_type": "markdown",
      "source": [
        "# Calibration using Platt's scaling"
      ],
      "metadata": {
        "id": "hfJKjTta38S1"
      },
      "id": "hfJKjTta38S1"
    },
    {
      "cell_type": "code",
      "source": [
        "# Calibrate the model on the validation data using isotonic regression\n",
        "isotonic_regression = CalibratedClassifierCV(model, method='isotonic', cv='prefit')\n",
        "isotonic_regression.fit(X_val, y_val)\n",
        "\n",
        "# Get the model probabilities on the test set (calibrated model - Isotonic regression)\n",
        "probs_ir = isotonic_regression.predict_proba(X_test)[:, 1]\n",
        "\n",
        "# Calculate Brier score for the isotonic regression calibrated model\n",
        "brier_isotonic = brier_score_loss(y_test, probs_ir)\n",
        "print(f\"Brier Score for Isotonic Regression Calibrated Model: {round(brier_isotonic, 4)}\")\n",
        "\n",
        "# Compute the calibration curve for isotonic regression\n",
        "fraction_of_positives_ir, mean_predicted_value_ir = calibration_curve(y_test, probs_ir, n_bins=10)\n"
      ],
      "metadata": {
        "colab": {
          "base_uri": "https://localhost:8080/"
        },
        "id": "e8Izu3qj388G",
        "outputId": "fbeb6c1f-9389-4d5c-cd7b-aa664540196c"
      },
      "id": "e8Izu3qj388G",
      "execution_count": 29,
      "outputs": [
        {
          "output_type": "stream",
          "name": "stdout",
          "text": [
            "Brier Score for Isotonic Regression Calibrated Model: 0.0102\n"
          ]
        }
      ]
    },
    {
      "cell_type": "markdown",
      "source": [
        "# Create a calibration plot\n"
      ],
      "metadata": {
        "id": "Z0LZ8qMH4DMz"
      },
      "id": "Z0LZ8qMH4DMz"
    },
    {
      "cell_type": "code",
      "source": [
        "plt.figure(figsize=(6, 4))\n",
        "plt.plot([0, 1], [0, 1], \"k:\", label=\"Perfectly calibrated\")\n",
        "plt.plot(mean_predicted_value_uncalibrated, fraction_of_positives_uncalibrated, label=\"Uncalibrated %s\" % round(brier_uncalibrated, 4))\n",
        "plt.plot(mean_predicted_value_ps, fraction_of_positives_ps, label=\"Platt's scaling %s\" % round(brier_platt, 4), linestyle='-.')\n",
        "plt.plot(mean_predicted_value_ir, fraction_of_positives_ir, label=\"Isotonic regression %s\" % round(brier_isotonic, 4), linestyle='--')\n",
        "plt.xlabel('Mean predicted value')\n",
        "plt.ylabel('Fraction of positives')\n",
        "plt.title('Calibration curves (Test set)')\n",
        "# plt.legend()\n",
        "plt.legend(bbox_to_anchor=(1.05, 1.0), loc='upper left')\n",
        "plt.show()\n"
      ],
      "metadata": {
        "colab": {
          "base_uri": "https://localhost:8080/",
          "height": 410
        },
        "id": "VjDCd3odtsXx",
        "outputId": "d0fd2c98-b737-47be-d13d-b7e4e080a9da"
      },
      "id": "VjDCd3odtsXx",
      "execution_count": 26,
      "outputs": [
        {
          "output_type": "display_data",
          "data": {
            "text/plain": [
              "<Figure size 600x400 with 1 Axes>"
            ],
            "image/png": "[encoded data removed]"
          },
          "metadata": {}
        }
      ]
    },
    {
      "cell_type": "code",
      "source": [],
      "metadata": {
        "id": "hDYMTi-vtt-h"
      },
      "id": "hDYMTi-vtt-h",
      "execution_count": 15,
      "outputs": []
    },
    {
      "cell_type": "code",
      "source": [],
      "metadata": {
        "id": "3JifqhKDx3wr"
      },
      "id": "3JifqhKDx3wr",
      "execution_count": 15,
      "outputs": []
    },
    {
      "cell_type": "markdown",
      "source": [],
      "metadata": {
        "id": "sTPr0yEruzVS"
      },
      "id": "sTPr0yEruzVS"
    }
  ],
  "metadata": {
    "kernelspec": {
      "display_name": "Python 3",
      "language": "python",
      "name": "python3"
    },
    "language_info": {
      "codemirror_mode": {
        "name": "ipython",
        "version": 3
      },
      "file_extension": ".py",
      "mimetype": "text/x-python",
      "name": "python",
      "nbconvert_exporter": "python",
      "pygments_lexer": "ipython3",
      "version": "3.7.12"
    },
    "papermill": {
      "default_parameters": {},
      "duration": 49.575869,
      "end_time": "2022-07-16T09:31:04.392023",
      "environment_variables": {},
      "exception": null,
      "input_path": "__notebook__.ipynb",
      "output_path": "__notebook__.ipynb",
      "parameters": {},
      "start_time": "2022-07-16T09:30:14.816154",
      "version": "2.3.3"
    },
    "colab": {
      "provenance": [],
      "include_colab_link": true
    }
  },
  "nbformat": 4,
  "nbformat_minor": 5
}