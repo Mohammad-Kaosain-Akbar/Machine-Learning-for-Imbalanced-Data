{
  "cells": [
    {
      "cell_type": "markdown",
      "metadata": {},
      "source": [
        "<a href=\"https://colab.research.google.com/github/packtpublishing/Machine-Learning-for-Imbalanced-Data/blob/main/chapter09/Class_Rectification_Loss.ipynb\" target=\"_parent\"><img src=\"https://colab.research.google.com/assets/colab-badge.svg\" alt=\"Open In Colab\"/></a>"
      ]
    },
    {
      "cell_type": "code",
      "execution_count": 1,
      "metadata": {
        "id": "imqt9BNMI7uF"
      },
      "outputs": [],
      "source": [
        "%%capture\n",
        "# Uncomment the following 2 lines if running this notebook for the first time\n",
        "# install torchvision\n",
        "# ! python3 -m pip install torchvision==0.13.0"
      ]
    },
    {
      "cell_type": "code",
      "execution_count": 2,
      "metadata": {
        "colab": {
          "base_uri": "https://localhost:8080/"
        },
        "id": "Ei_QG7VoCEoV",
        "outputId": "611887a5-076c-4bd7-d2bc-13ae0b4d0bcb"
      },
      "outputs": [
        {
          "name": "stdout",
          "output_type": "stream",
          "text": [
            "--2023-02-06 06:05:39--  https://pjreddie.com/media/files/mnist_train.csv\n",
            "Resolving pjreddie.com (pjreddie.com)... 128.208.4.108\n",
            "Connecting to pjreddie.com (pjreddie.com)|128.208.4.108|:443... connected.\n",
            "HTTP request sent, awaiting response... 200 OK\n",
            "Length: 109575994 (104M) [application/octet-stream]\n",
            "Saving to: ‘mnist_train.csv’\n",
            "\n",
            "mnist_train.csv     100%[===================>] 104.50M  19.9MB/s    in 5.9s    \n",
            "\n",
            "2023-02-06 06:05:46 (17.6 MB/s) - ‘mnist_train.csv’ saved [109575994/109575994]\n",
            "\n",
            "--2023-02-06 06:05:46--  https://pjreddie.com/media/files/mnist_test.csv\n",
            "Resolving pjreddie.com (pjreddie.com)... 128.208.4.108\n",
            "Connecting to pjreddie.com (pjreddie.com)|128.208.4.108|:443... connected.\n",
            "HTTP request sent, awaiting response... 200 OK\n",
            "Length: 18289443 (17M) [application/octet-stream]\n",
            "Saving to: ‘mnist_test.csv’\n",
            "\n",
            "mnist_test.csv      100%[===================>]  17.44M  11.1MB/s    in 1.6s    \n",
            "\n",
            "2023-02-06 06:05:48 (11.1 MB/s) - ‘mnist_test.csv’ saved [18289443/18289443]\n",
            "\n"
          ]
        }
      ],
      "source": [
        "# download MNIST (csv files) it contains images and labels in the same file (60000 for training, 10000 for testing)\n",
        "!wget https://pjreddie.com/media/files/mnist_train.csv\n",
        "!wget https://pjreddie.com/media/files/mnist_test.csv"
      ]
    },
    {
      "cell_type": "code",
      "execution_count": 3,
      "metadata": {
        "id": "sGqSiqF6JYQ1"
      },
      "outputs": [],
      "source": [
        "# import libraries\n",
        "import pandas as pd\n",
        "import numpy as np\n",
        "import torch\n",
        "import torchvision\n",
        "import torch.nn as nn\n",
        "import torch.nn.functional as F\n",
        "import torch.optim as optim \n",
        "from torchvision.transforms import transforms\n",
        "from torch.utils.data import DataLoader\n",
        "from torch.utils.data import Dataset\n",
        "import random\n",
        "import copy\n",
        "import matplotlib.pyplot as plt\n",
        "import seaborn as sns\n",
        "import sklearn.metrics as sm\n",
        "torch.manual_seed(0)\n",
        "np.random.seed(0)\n",
        "\n",
        "from collections import Counter \n",
        "\n",
        "class Net(torch.nn.Module):\n",
        "    def __init__(self):\n",
        "        super(Net, self).__init__()\n",
        "        self.conv1 = torch.nn.Conv2d(1, 10, kernel_size=5)\n",
        "        self.conv2 = torch.nn.Conv2d(10, 20, kernel_size=5)\n",
        "        self.conv2_drop = torch.nn.Dropout2d()\n",
        "        self.fc1 = torch.nn.Linear(320, 50)\n",
        "        self.fc2 = torch.nn.Linear(50, 10)\n",
        "\n",
        "    def forward(self, x):\n",
        "        x = F.relu(F.max_pool2d(self.conv1(x), 2))\n",
        "        x = F.relu(F.max_pool2d(self.conv2_drop(self.conv2(x)), 2))\n",
        "        x = x.view(-1, 320)\n",
        "        x = F.relu(self.fc1(x))\n",
        "        x = F.dropout(x, training=self.training)\n",
        "        x = self.fc2(x)\n",
        "        return F.log_softmax(x, dim=1)\n",
        "\n",
        "    "
      ]
    },
    {
      "cell_type": "code",
      "execution_count": 4,
      "metadata": {
        "id": "A0miDDa2D2sJ"
      },
      "outputs": [],
      "source": [
        "use_cuda = torch.cuda.is_available()\n",
        "device = torch.device(\"cuda\" if use_cuda else \"cpu\")"
      ]
    },
    {
      "cell_type": "code",
      "execution_count": 5,
      "metadata": {
        "id": "932EK_IuBvuh"
      },
      "outputs": [],
      "source": [
        "def create_imbalanced(train_dataset, label_to_del, size):\n",
        "  label_ids = [i for i, label in enumerate(train_dataset.y)\n",
        "              if label == label_to_del]\n",
        "  label_ids = np.random.choice(label_ids, size=size, replace=False)\n",
        "  num_classes = 10\n",
        "  classe_labels = range(num_classes)\n",
        "  sample_probs = torch.rand(num_classes)\n",
        "\n",
        "  idx_to_del = [i for i, label in enumerate(train_dataset.y) \n",
        "                if random.random() > sample_probs[label]]\n",
        "  # remove more instances of 9\n",
        "  idx_to_del += list(label_ids)\n",
        "  imbalanced_train_dataset = copy.deepcopy(train_dataset)\n",
        "  imbalanced_train_dataset.y = np.delete(train_dataset.y, idx_to_del, axis=0)\n",
        "  imbalanced_train_dataset.X = np.delete(train_dataset.X, idx_to_del, axis=0)\n",
        "  return imbalanced_train_dataset"
      ]
    },
    {
      "cell_type": "code",
      "execution_count": 6,
      "metadata": {
        "id": "3ntGdraVOCBy"
      },
      "outputs": [],
      "source": [
        "# read the data\n",
        "df_train = pd.read_csv('mnist_train.csv')\n",
        "df_test = pd.read_csv('mnist_test.csv')\n",
        "\n",
        "# get the image pixel values and labels (separate the images from labels)\n",
        "train_labels = df_train.iloc[:, 0]\n",
        "train_images = df_train.iloc[:, 1:]\n",
        "test_labels = df_test.iloc[:, 0]\n",
        "test_images = df_test.iloc[:, 1:]\n",
        "\n",
        "#Transform to convert images to tensors\n",
        "transform = transforms.Compose(\n",
        "    [transforms.ToPILImage(),\n",
        "     transforms.ToTensor(),\n",
        "     transforms.Normalize((0.1302,), (0.3069,))\n",
        "])\n",
        "\n",
        "# custom dataset (it returns data(images+labes), indx(index of the image in the dataset))\n",
        "class MNISTDataset(Dataset):\n",
        "    def __init__(self, images, labels=None, transforms=None):\n",
        "        self.X = images\n",
        "        self.y = labels\n",
        "        self.transforms = transforms\n",
        "         \n",
        "    def __len__(self):\n",
        "        return (len(self.X))\n",
        "    \n",
        "    def __getitem__(self, indx):\n",
        "        data = self.X[indx]\n",
        "        data = np.asarray(data).astype(np.uint8).reshape(28, 28, 1)\n",
        "        \n",
        "        if self.transforms:\n",
        "            data = self.transforms(data)\n",
        "            \n",
        "        if self.y is not None:\n",
        "            return (data, self.y[indx]), indx\n",
        "        else:\n",
        "            return data, indx\n",
        "\n",
        "imbalanced = True\n",
        "label_to_del = 9\n",
        "size= 3000\n",
        "\n",
        "# create dataset objects\n",
        "trainset = MNISTDataset(train_images.values, train_labels.values, transform)\n",
        "testset = MNISTDataset(test_images.values, test_labels.values, transform)\n",
        "\n",
        "if imbalanced:\n",
        "  trainset = create_imbalanced(train_dataset=trainset, label_to_del=label_to_del, size = size)\n",
        "test_dataloader = torch.utils.data.DataLoader(dataset=testset, batch_size=100)"
      ]
    },
    {
      "cell_type": "code",
      "execution_count": 7,
      "metadata": {
        "colab": {
          "base_uri": "https://localhost:8080/"
        },
        "id": "d4oiSaIM3GrG",
        "outputId": "c29229dd-9c0e-4826-d0b1-3f36f5d539f6"
      },
      "outputs": [
        {
          "data": {
            "text/plain": [
              "array([0, 4, 1, ..., 1, 8, 6])"
            ]
          },
          "execution_count": 7,
          "metadata": {},
          "output_type": "execute_result"
        }
      ],
      "source": [
        "trainset.y"
      ]
    },
    {
      "cell_type": "code",
      "execution_count": 8,
      "metadata": {
        "colab": {
          "base_uri": "https://localhost:8080/",
          "height": 456
        },
        "id": "oujiUfID2add",
        "outputId": "85beb314-a388-4ef4-d26b-8d64c027128a"
      },
      "outputs": [
        {
          "name": "stdout",
          "output_type": "stream",
          "text": [
            "Distribution of classes in imbalanced dataset:\n"
          ]
        },
        {
          "data": {
            "image/png": "[encoded data removed]",
            "text/plain": [
              "<Figure size 432x288 with 1 Axes>"
            ]
          },
          "metadata": {
            "needs_background": "light"
          },
          "output_type": "display_data"
        },
        {
          "data": {
            "text/plain": [
              "Counter({0: 2930,\n",
              "         4: 1794,\n",
              "         1: 5227,\n",
              "         6: 2917,\n",
              "         7: 5600,\n",
              "         9: 1857,\n",
              "         8: 2653,\n",
              "         5: 3446,\n",
              "         2: 533,\n",
              "         3: 799})"
            ]
          },
          "execution_count": 8,
          "metadata": {},
          "output_type": "execute_result"
        }
      ],
      "source": [
        "print('Distribution of classes in imbalanced dataset:')\n",
        "fig, ax = plt.subplots()\n",
        "_, counts = np.unique(trainset.y, return_counts=True)\n",
        "classe_labels = range(10)\n",
        "ax.bar(classe_labels, counts)\n",
        "ax.set_xticks(classe_labels)\n",
        "plt.show()\n",
        "\n",
        "from collections import Counter\n",
        "Counter(trainset.y)"
      ]
    },
    {
      "cell_type": "markdown",
      "metadata": {
        "id": "nePkQYd43VkK"
      },
      "source": [
        "# From the above plot, the most imbalanced classes are 2, 3 and 9"
      ]
    },
    {
      "cell_type": "markdown",
      "metadata": {
        "id": "3P7SmYKk0kYJ"
      },
      "source": [
        "Assumption: Although we implement this technique for just binary classes, it should be extensible to more than 2 classes as well. "
      ]
    },
    {
      "cell_type": "code",
      "execution_count": 9,
      "metadata": {
        "id": "4kJK6c9dNA1R"
      },
      "outputs": [],
      "source": [
        "def vis(test_accs, confusion_mtxes, labels, figsize=(20, 8)):\n",
        "    cm = confusion_mtxes[np.argmax(test_accs)]\n",
        "    cm_sum = np.sum(cm, axis=1, keepdims=True)\n",
        "    cm_perc = cm / cm_sum * 100\n",
        "    annot = np.empty_like(cm).astype(str)\n",
        "    nrows, ncols = cm.shape\n",
        "    for i in range(nrows):\n",
        "        for j in range(ncols):\n",
        "            c = cm[i, j]\n",
        "            p = cm_perc[i, j]\n",
        "            if c == 0:\n",
        "                annot[i, j] = ''\n",
        "            else:\n",
        "                annot[i, j] = '%.1f%%' % p\n",
        "    cm = pd.DataFrame(cm, index=labels, columns=labels)\n",
        "    cm.index.name = 'Actual'\n",
        "    cm.columns.name = 'Predicted'\n",
        "    \n",
        "    fig = plt.figure(figsize=figsize)\n",
        "    plt.subplot(1, 2, 1)\n",
        "    plt.plot(test_accs, 'g')\n",
        "    plt.grid(True)\n",
        "    \n",
        "    plt.subplot(1, 2, 2)\n",
        "    sns.heatmap(cm, annot=annot, fmt='', cmap=\"Blues\")\n",
        "    plt.show()"
      ]
    },
    {
      "cell_type": "markdown",
      "metadata": {
        "id": "edPVqOue0kYP"
      },
      "source": [
        "# Baseline using Cross Entropy Loss"
      ]
    },
    {
      "cell_type": "code",
      "execution_count": 10,
      "metadata": {
        "colab": {
          "base_uri": "https://localhost:8080/",
          "height": 1000
        },
        "id": "vuXr7Z-0K-Wj",
        "outputId": "ab75d85a-e9a5-4356-cb60-4a560aeaefbb"
      },
      "outputs": [
        {
          "name": "stdout",
          "output_type": "stream",
          "text": [
            "epoch: 0 [0/217 (0%)]\t training loss: 2.304643\n",
            "epoch: 0 [100/217 (46%)]\t training loss: 1.181969\n",
            "epoch: 0 [200/217 (92%)]\t training loss: 0.707810\n",
            "Best test acc = 78.45%\n",
            "\n",
            "Test dataset: Overall Loss: 0.6609, Overall Accuracy: 7844/9999 (78%)\n",
            "\n",
            "epoch: 1 [0/217 (0%)]\t training loss: 0.706671\n",
            "epoch: 1 [100/217 (46%)]\t training loss: 0.669879\n",
            "epoch: 1 [200/217 (92%)]\t training loss: 0.428477\n",
            "Best test acc = 88.73%\n",
            "\n",
            "Test dataset: Overall Loss: 0.3854, Overall Accuracy: 8872/9999 (89%)\n",
            "\n",
            "epoch: 2 [0/217 (0%)]\t training loss: 0.435678\n",
            "epoch: 2 [100/217 (46%)]\t training loss: 0.554938\n",
            "epoch: 2 [200/217 (92%)]\t training loss: 0.348692\n",
            "Best test acc = 91.63%\n",
            "\n",
            "Test dataset: Overall Loss: 0.2889, Overall Accuracy: 9162/9999 (92%)\n",
            "\n",
            "epoch: 3 [0/217 (0%)]\t training loss: 0.327075\n",
            "epoch: 3 [100/217 (46%)]\t training loss: 0.439488\n",
            "epoch: 3 [200/217 (92%)]\t training loss: 0.337456\n",
            "Best test acc = 93.15%\n",
            "\n",
            "Test dataset: Overall Loss: 0.2464, Overall Accuracy: 9314/9999 (93%)\n",
            "\n",
            "epoch: 4 [0/217 (0%)]\t training loss: 0.336347\n",
            "epoch: 4 [100/217 (46%)]\t training loss: 0.487999\n",
            "epoch: 4 [200/217 (92%)]\t training loss: 0.354059\n",
            "Best test acc = 93.59%\n",
            "\n",
            "Test dataset: Overall Loss: 0.2240, Overall Accuracy: 9358/9999 (94%)\n",
            "\n",
            "epoch: 5 [0/217 (0%)]\t training loss: 0.358529\n",
            "epoch: 5 [100/217 (46%)]\t training loss: 0.351825\n",
            "epoch: 5 [200/217 (92%)]\t training loss: 0.297369\n",
            "Best test acc = 94.44%\n",
            "\n",
            "Test dataset: Overall Loss: 0.1940, Overall Accuracy: 9443/9999 (94%)\n",
            "\n",
            "epoch: 6 [0/217 (0%)]\t training loss: 0.282809\n",
            "epoch: 6 [100/217 (46%)]\t training loss: 0.288131\n",
            "epoch: 6 [200/217 (92%)]\t training loss: 0.241238\n",
            "Best test acc = 94.92%\n",
            "\n",
            "Test dataset: Overall Loss: 0.1766, Overall Accuracy: 9491/9999 (95%)\n",
            "\n",
            "epoch: 7 [0/217 (0%)]\t training loss: 0.237652\n",
            "epoch: 7 [100/217 (46%)]\t training loss: 0.284754\n",
            "epoch: 7 [200/217 (92%)]\t training loss: 0.268027\n",
            "Best test acc = 95.00%\n",
            "\n",
            "Test dataset: Overall Loss: 0.1727, Overall Accuracy: 9499/9999 (95%)\n",
            "\n",
            "epoch: 8 [0/217 (0%)]\t training loss: 0.245649\n",
            "epoch: 8 [100/217 (46%)]\t training loss: 0.264000\n",
            "epoch: 8 [200/217 (92%)]\t training loss: 0.206497\n",
            "Best test acc = 95.14%\n",
            "\n",
            "Test dataset: Overall Loss: 0.1611, Overall Accuracy: 9513/9999 (95%)\n",
            "\n",
            "epoch: 9 [0/217 (0%)]\t training loss: 0.256415\n",
            "epoch: 9 [100/217 (46%)]\t training loss: 0.287259\n",
            "epoch: 9 [200/217 (92%)]\t training loss: 0.219220\n",
            "Best test acc = 95.40%\n",
            "\n",
            "Test dataset: Overall Loss: 0.1542, Overall Accuracy: 9539/9999 (95%)\n",
            "\n"
          ]
        },
        {
          "data": {
            "image/png": "[encoded data removed]",
            "text/plain": [
              "<Figure size 1440x576 with 3 Axes>"
            ]
          },
          "metadata": {
            "needs_background": "light"
          },
          "output_type": "display_data"
        }
      ],
      "source": [
        "train_labels = trainset.y\n",
        "train_images = trainset.X\n",
        "test_labels = test_dataloader.dataset.y\n",
        "test_images = test_dataloader.dataset.X\n",
        "class_labels = range(10)\n",
        "# create sample weight initialized to 1\n",
        "samples_weights = np.ones(len(train_labels))\n",
        "# define indexes of the samples\n",
        "train_target_indexes = np.arange(0, 59999, 1, dtype=int)\n",
        "# define model + optimizer + Triplet_loss\n",
        "#model = ConvNet()\n",
        "model = Net()\n",
        "optimizer = optim.Adadelta(model.parameters(), lr=0.1)\n",
        "criterion = nn.CrossEntropyLoss(reduction='sum')\n",
        "test_accs, confusion_mtxes = [], []\n",
        "\n",
        "for epoch in range(10):\n",
        "        #training\n",
        "        train_loader = torch.utils.data.DataLoader(trainset, batch_size=128,  num_workers=0)\n",
        "        class_counter = np.zeros(10)\n",
        "        f1_score_class = np.zeros(10)\n",
        "        model.train()\n",
        "\n",
        "        for batch_i, (data, _) in enumerate(train_loader):\n",
        "              # retrieve images and labels from trainloader\n",
        "              image = data[0].to('cpu')\n",
        "              batch_truth = data[1].to('cpu')\n",
        "              # calculate the loss\n",
        "              optimizer.zero_grad()\n",
        "              output = model(image)\n",
        "              loss = criterion(output, batch_truth)/len(output)\n",
        "              loss.backward()\n",
        "              optimizer.step()\n",
        "              # show training loss \n",
        "              if batch_i % 100 == 0:\n",
        "                print('epoch: {} [{}/{} ({:.0f}%)]\\t training loss: {:.6f}'.format(\n",
        "                    epoch, batch_i, len(train_loader),\n",
        "                    100. * batch_i / len(train_loader), loss.item()))\n",
        "\n",
        "        # testing\n",
        "        # set the model to the evaluation state\n",
        "        model.eval()\n",
        "        loss = 0\n",
        "        success = 0\n",
        "        correct = 0\n",
        "        targets, preds = [], []\n",
        "        with torch.no_grad():\n",
        "            for data, indx in test_dataloader:\n",
        "                X, y = data[0], data[1]\n",
        "                # calculate the probalities \n",
        "                pred_prob = model(X)\n",
        "                pred = pred_prob.max(1, keepdim=True)[1] # get the index of the max log-probability\n",
        "                correct += pred.eq(y.view_as(pred)).sum().item()\n",
        "                targets += list(y.cpu().numpy())\n",
        "                preds += list(pred.cpu().numpy())\n",
        "    \n",
        "                # loss summed across the batch\n",
        "                loss += criterion(pred_prob, y).item()\n",
        "                # use argmax to get the most likely prediction\n",
        "                pred = pred_prob.argmax(dim=1, keepdim=True)  \n",
        "                success += pred.eq(y.view_as(pred)).sum().item()\n",
        "            test_acc = 100. * correct / len(test_dataloader.dataset)\n",
        "            confusion_mtx = sm.confusion_matrix(targets, preds)\n",
        "            test_accs.append(test_acc)\n",
        "            confusion_mtxes.append(confusion_mtx)\n",
        "            \n",
        "        # calculate the loss\n",
        "        loss /= len(test_dataloader.dataset)\n",
        "        print('\\rBest test acc = %2.2f%%' % max(test_accs))\n",
        "        # calculate the accuracy\n",
        "        accuracy = 100. * success / len(test_dataloader.dataset)\n",
        "\n",
        "        # show the loss + accuracy\n",
        "        print('\\nTest dataset: Overall Loss: {:.4f}, Overall Accuracy: {}/{} ({:.0f}%)\\n'.format(\n",
        "            loss, success, len(test_dataloader.dataset), accuracy))\n",
        "\n",
        "vis(test_accs, confusion_mtxes, class_labels)"
      ]
    },
    {
      "cell_type": "code",
      "execution_count": 11,
      "metadata": {
        "id": "ZHTEhzL00kYL"
      },
      "outputs": [],
      "source": [
        "from collections import Counter\n",
        "\n",
        "class ClassLevelHardMining():\n",
        "    def __init__(self,labels):\n",
        "        super(ClassLevelHardMining, self).__init__()\n",
        "        self.sample_counts = Counter(labels.tolist())\n",
        "        self.omega = None  # Class imbalance measure\n",
        "        self.minority_class = None\n",
        "        self.minority_indices = None\n",
        "        self.majority_class = None\n",
        "        self.majority_indices = None\n",
        "\n",
        "    def _make_omega(self, majority_class_label, minority_class_label):\n",
        "        if self.omega is not None:\n",
        "            return self.omega\n",
        "        return (self.sample_counts[majority_class_label] - self.sample_counts[minority_class_label]) / (self.sample_counts[majority_class_label]+0.05)\n",
        "        \n",
        "    def on_batch_begin(self, last_target):\n",
        "        targets = last_target.cpu()\n",
        "        target_indices = set(enumerate(targets))\n",
        "        label_count = Counter(targets.tolist())\n",
        "        self.minority_class = min(label_count, key=label_count.get)  # Find the class with the least num of samples\n",
        "        self.minority_indices = [i[0] for i in target_indices if i[1] == self.minority_class]\n",
        "        self.majority_class = max(label_count, key=label_count.get)\n",
        "        self.majority_indices = [i[0] for i in target_indices if i[1] == self.majority_class]\n",
        "        self.omega = self._make_omega(self.majority_class, self.minority_class)\n",
        "\n",
        "    def on_loss_begin(self, last_output):\n",
        "        predictions = last_output.cpu()\n",
        "        # Every minority sample is also treated as an anchor\n",
        "        minority_predictions = anchors = predictions[self.minority_indices][:, self.minority_class]\n",
        "        majority_predictions = predictions[self.majority_indices][:, self.majority_class]\n",
        "        k = len(minority_predictions) if len(minority_predictions) < 25 else 25\n",
        "        \n",
        "        # take lowest k prediction scores for minority class: hard positive samples\n",
        "        bottom_k_hard_pos = torch.sort(minority_predictions)[0][:k] \n",
        "        \n",
        "        # take highest k prediction scores from the opposite class(viz majority class): hard negative samples\n",
        "        top_k_hard_neg = torch.sort(majority_predictions, descending=True)[0][:k]\n",
        "        return (anchors, bottom_k_hard_pos, top_k_hard_neg, predictions, self.omega)\n"
      ]
    },
    {
      "cell_type": "markdown",
      "metadata": {
        "id": "z2kA8pKQ0kYM"
      },
      "source": [
        "##### Let's write our custom loss function named `ClassRectificationLoss`"
      ]
    },
    {
      "cell_type": "code",
      "execution_count": 12,
      "metadata": {
        "id": "9tJsiTvQpNBg"
      },
      "outputs": [],
      "source": [
        "class ClassRectificationLoss(nn.Module):\n",
        "    def __init__(self, eta=0.01, margin=0.5):\n",
        "        super(ClassRectificationLoss, self).__init__()\n",
        "        self.eta = eta  # Subparameter of α\n",
        "        self.margin = margin \n",
        "        \n",
        "    def _relative_comparison(self, anchor, positive, negative):\n",
        "        distance_positive = F.l1_loss(anchor, positive, reduction='sum')\n",
        "        distance_negative = F.l1_loss(anchor, negative, reduction='sum')\n",
        "        losses = F.relu(distance_positive - distance_negative + self.margin) # Triplet Loss\n",
        "        return losses.mean()\n",
        "\n",
        "    def forward(self, last_output, targets, reduction='none'):\n",
        "        targets = targets.cpu()\n",
        "        a, p, n, predictions, omega = last_output\n",
        "        alpha = (self.eta * omega)\n",
        "        return (alpha * self._relative_comparison(a, p, n)) + ((1 - alpha) * F.nll_loss(predictions, targets))\n"
      ]
    },
    {
      "cell_type": "markdown",
      "metadata": {
        "id": "YmUCm4IR0kYO"
      },
      "source": [
        "##### Let's initialize the model and implement the training loop utilizing our new loss function of ClassRectificationLoss and ClassLevelHardMining as a callback function."
      ]
    },
    {
      "cell_type": "markdown",
      "metadata": {
        "id": "q781W9rg74sw"
      },
      "source": [
        "# Class Rectification Loss"
      ]
    },
    {
      "cell_type": "code",
      "execution_count": 13,
      "metadata": {
        "colab": {
          "base_uri": "https://localhost:8080/",
          "height": 1000
        },
        "id": "jSe7TxzG0kYO",
        "outputId": "49646ffd-9f08-4823-fd03-00e14dbe5eb3"
      },
      "outputs": [
        {
          "name": "stdout",
          "output_type": "stream",
          "text": [
            "epoch: 0 [0/217 (0%)]\t training loss: 2.335267\n",
            "epoch: 0 [100/217 (46%)]\t training loss: 1.192900\n",
            "epoch: 0 [200/217 (92%)]\t training loss: 0.759436\n",
            "Best test acc = 73.29%\n",
            "\n",
            "Test dataset: Overall Loss: 0.7840, Overall Accuracy: 7328/9999 (73%)\n",
            "\n",
            "epoch: 1 [0/217 (0%)]\t training loss: 0.669849\n",
            "epoch: 1 [100/217 (46%)]\t training loss: 0.744590\n",
            "epoch: 1 [200/217 (92%)]\t training loss: 0.383630\n",
            "Best test acc = 84.41%\n",
            "\n",
            "Test dataset: Overall Loss: 0.4865, Overall Accuracy: 8440/9999 (84%)\n",
            "\n",
            "epoch: 2 [0/217 (0%)]\t training loss: 0.484760\n",
            "epoch: 2 [100/217 (46%)]\t training loss: 0.551428\n",
            "epoch: 2 [200/217 (92%)]\t training loss: 0.483592\n",
            "Best test acc = 88.76%\n",
            "\n",
            "Test dataset: Overall Loss: 0.3677, Overall Accuracy: 8875/9999 (89%)\n",
            "\n",
            "epoch: 3 [0/217 (0%)]\t training loss: 0.414931\n",
            "epoch: 3 [100/217 (46%)]\t training loss: 0.448927\n",
            "epoch: 3 [200/217 (92%)]\t training loss: 0.345878\n",
            "Best test acc = 91.13%\n",
            "\n",
            "Test dataset: Overall Loss: 0.3015, Overall Accuracy: 9112/9999 (91%)\n",
            "\n",
            "epoch: 4 [0/217 (0%)]\t training loss: 0.422236\n",
            "epoch: 4 [100/217 (46%)]\t training loss: 0.377663\n",
            "epoch: 4 [200/217 (92%)]\t training loss: 0.273464\n",
            "Best test acc = 92.06%\n",
            "\n",
            "Test dataset: Overall Loss: 0.2683, Overall Accuracy: 9205/9999 (92%)\n",
            "\n",
            "epoch: 5 [0/217 (0%)]\t training loss: 0.256515\n",
            "epoch: 5 [100/217 (46%)]\t training loss: 0.491204\n",
            "epoch: 5 [200/217 (92%)]\t training loss: 0.260130\n",
            "Best test acc = 92.99%\n",
            "\n",
            "Test dataset: Overall Loss: 0.2356, Overall Accuracy: 9298/9999 (93%)\n",
            "\n",
            "epoch: 6 [0/217 (0%)]\t training loss: 0.245745\n",
            "epoch: 6 [100/217 (46%)]\t training loss: 0.415192\n",
            "epoch: 6 [200/217 (92%)]\t training loss: 0.242358\n",
            "Best test acc = 93.79%\n",
            "\n",
            "Test dataset: Overall Loss: 0.2116, Overall Accuracy: 9378/9999 (94%)\n",
            "\n",
            "epoch: 7 [0/217 (0%)]\t training loss: 0.264325\n",
            "epoch: 7 [100/217 (46%)]\t training loss: 0.410122\n",
            "epoch: 7 [200/217 (92%)]\t training loss: 0.329110\n",
            "Best test acc = 94.11%\n",
            "\n",
            "Test dataset: Overall Loss: 0.1953, Overall Accuracy: 9410/9999 (94%)\n",
            "\n",
            "epoch: 8 [0/217 (0%)]\t training loss: 0.408249\n",
            "epoch: 8 [100/217 (46%)]\t training loss: 0.299342\n",
            "epoch: 8 [200/217 (92%)]\t training loss: 0.280567\n",
            "Best test acc = 94.44%\n",
            "\n",
            "Test dataset: Overall Loss: 0.1849, Overall Accuracy: 9443/9999 (94%)\n",
            "\n",
            "epoch: 9 [0/217 (0%)]\t training loss: 0.318392\n",
            "epoch: 9 [100/217 (46%)]\t training loss: 0.360048\n",
            "epoch: 9 [200/217 (92%)]\t training loss: 0.170453\n",
            "Best test acc = 94.77%\n",
            "\n",
            "Test dataset: Overall Loss: 0.1686, Overall Accuracy: 9476/9999 (95%)\n",
            "\n"
          ]
        },
        {
          "data": {
            "image/png": "[encoded data removed]",
            "text/plain": [
              "<Figure size 1440x576 with 3 Axes>"
            ]
          },
          "metadata": {
            "needs_background": "light"
          },
          "output_type": "display_data"
        }
      ],
      "source": [
        "train_labels = trainset.y\n",
        "train_images = trainset.X\n",
        "test_labels = test_dataloader.dataset.y\n",
        "test_images = test_dataloader.dataset.X\n",
        "class_labels = range(10)\n",
        "# create sample weight initialized to 1\n",
        "samples_weights = np.ones(len(train_labels))\n",
        "# define indexes of the samples\n",
        "train_target_indexes = np.arange(0, 59999, 1, dtype=int)\n",
        "# define model + optimizer + Triplet_loss\n",
        "#model = ConvNet()\n",
        "model = Net()\n",
        "optimizer = optim.Adadelta(model.parameters(), lr=0.1)\n",
        "rectificationloss = ClassRectificationLoss()\n",
        "test_accs, confusion_mtxes = [], []\n",
        "\n",
        "for epoch in range(10):\n",
        "        #training\n",
        "        train_loader = torch.utils.data.DataLoader(trainset, batch_size=128,  num_workers=0)\n",
        "        class_counter = np.zeros(10)\n",
        "        f1_score_class = np.zeros(10)\n",
        "        model.train()\n",
        "\n",
        "        for batch_i, (data, _) in enumerate(train_loader):\n",
        "              # retrieve images and labels from trainloader\n",
        "              image = data[0].to('cpu')\n",
        "              batch_truth = data[1].to('cpu')\n",
        "              # calculate the loss\n",
        "              classhardmining = ClassLevelHardMining(batch_truth)\n",
        "              classhardmining.on_batch_begin(batch_truth)\n",
        "              optimizer.zero_grad()\n",
        "              output = model(image)\n",
        "              triplet_output = classhardmining.on_loss_begin(output)\n",
        "              loss = rectificationloss(triplet_output, batch_truth)\n",
        "              loss.backward()\n",
        "              optimizer.step()\n",
        "              # show training loss \n",
        "              if batch_i % 100 == 0:\n",
        "                print('epoch: {} [{}/{} ({:.0f}%)]\\t training loss: {:.6f}'.format(\n",
        "                    epoch, batch_i, len(train_loader),\n",
        "                    100. * batch_i / len(train_loader), loss.item()))\n",
        "\n",
        "        # testing\n",
        "        # set the model to the evaluation state\n",
        "        model.eval()\n",
        "        loss = 0\n",
        "        success = 0\n",
        "        correct = 0\n",
        "        targets, preds = [], []\n",
        "        with torch.no_grad():\n",
        "            for data, indx in test_dataloader:\n",
        "                X, y = data[0], data[1]\n",
        "                # calculate the probalities \n",
        "                pred_prob = model(X)\n",
        "                pred = pred_prob.max(1, keepdim=True)[1] # get the index of the max log-probability\n",
        "                correct += pred.eq(y.view_as(pred)).sum().item()\n",
        "                targets += list(y.cpu().numpy())\n",
        "                preds += list(pred.cpu().numpy())\n",
        "    \n",
        "                # loss summed across the batch\n",
        "                loss += F.nll_loss(pred_prob, y, reduction='sum').item()\n",
        "                # use argmax to get the most likely prediction\n",
        "                pred = pred_prob.argmax(dim=1, keepdim=True)  \n",
        "                success += pred.eq(y.view_as(pred)).sum().item()\n",
        "            test_acc = 100. * correct / len(test_dataloader.dataset)\n",
        "            confusion_mtx = sm.confusion_matrix(targets, preds)\n",
        "            test_accs.append(test_acc)\n",
        "            confusion_mtxes.append(confusion_mtx)\n",
        "            print('\\rBest test acc = %2.2f%%' % max(test_accs))\n",
        "        # calculate the loss\n",
        "        loss /= len(test_dataloader.dataset)\n",
        "\n",
        "        # calculate the accuracy\n",
        "        accuracy = 100. * success / len(test_dataloader.dataset)\n",
        "\n",
        "        # show the loss + accuracy\n",
        "        print('\\nTest dataset: Overall Loss: {:.4f}, Overall Accuracy: {}/{} ({:.0f}%)\\n'.format(\n",
        "            loss, success, len(test_dataloader.dataset), accuracy))\n",
        "\n",
        "vis(test_accs, confusion_mtxes, class_labels)"
      ]
    }
  ],
  "metadata": {
    "accelerator": "GPU",
    "colab": {
      "provenance": []
    },
    "gpuClass": "standard",
    "kernelspec": {
      "display_name": "Python 3.8.9 64-bit",
      "language": "python",
      "name": "python3"
    },
    "language_info": {
      "codemirror_mode": {
        "name": "ipython",
        "version": 3
      },
      "file_extension": ".py",
      "mimetype": "text/x-python",
      "name": "python",
      "nbconvert_exporter": "python",
      "pygments_lexer": "ipython3",
      "version": "3.8.9"
    },
    "vscode": {
      "interpreter": {
        "hash": "31f2aee4e71d21fbe5cf8b01ff0e069b9275f58929596ceb00d14d90e3e16cd6"
      }
    }
  },
  "nbformat": 4,
  "nbformat_minor": 0
}
